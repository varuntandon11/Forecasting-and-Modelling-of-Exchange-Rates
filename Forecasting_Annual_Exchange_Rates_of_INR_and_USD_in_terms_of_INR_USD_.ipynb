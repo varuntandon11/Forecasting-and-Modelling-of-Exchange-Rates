{
  "nbformat": 4,
  "nbformat_minor": 0,
  "metadata": {
    "colab": {
      "provenance": []
    },
    "kernelspec": {
      "name": "python3",
      "display_name": "Python 3"
    },
    "language_info": {
      "name": "python"
    }
  },
  "cells": [
    {
      "cell_type": "code",
      "execution_count": null,
      "metadata": {
        "colab": {
          "base_uri": "https://localhost:8080/"
        },
        "id": "8f9RuFSuRcCs",
        "outputId": "233b2e00-e071-43a8-ded9-5bb19b857f7a"
      },
      "outputs": [
        {
          "output_type": "stream",
          "name": "stdout",
          "text": [
            "Mounted at /content/drive\n"
          ]
        }
      ],
      "source": [
        "from google.colab import drive\n",
        "drive.mount('/content/drive')"
      ]
    },
    {
      "cell_type": "code",
      "source": [
        "import pandas as pd\n"
      ],
      "metadata": {
        "id": "gyO1IWn0VZbT"
      },
      "execution_count": null,
      "outputs": []
    },
    {
      "cell_type": "code",
      "source": [
        "url = 'https://docs.google.com/spreadsheets/d/1RnbLw2c0bRGgrU9CeEEC6wXf9H986u7QGiSQj9155Hg/export?format=csv'\n",
        "df = pd.read_csv(url)"
      ],
      "metadata": {
        "id": "t0SlF63WWNzS"
      },
      "execution_count": null,
      "outputs": []
    },
    {
      "cell_type": "code",
      "source": [
        "df.head()"
      ],
      "metadata": {
        "colab": {
          "base_uri": "https://localhost:8080/",
          "height": 223
        },
        "id": "dWI_8hLSWs7p",
        "outputId": "a1e272ba-25b1-4d91-c58a-7200b58140f4"
      },
      "execution_count": null,
      "outputs": [
        {
          "output_type": "execute_result",
          "data": {
            "text/plain": [
              "   Exchange Rate     R ROI  Inflation  Gov Effectiveness    BOP(Trade)  \\\n",
              "0       35.43317  1.468708   6.045948           -1.63653  1.810000e+11   \n",
              "1       36.31329  0.306232   4.826562           -1.63653  1.880000e+11   \n",
              "2       41.25937 -2.028670  11.678560           -1.81298  2.370000e+11   \n",
              "3       43.05543  2.703980   2.481793           -1.81298  3.280000e+11   \n",
              "4       44.94161  1.528818   0.632579           -1.91224  4.360000e+11   \n",
              "\n",
              "   Political stability  \n",
              "0             -1.90759  \n",
              "1             -1.90759  \n",
              "2             -2.08043  \n",
              "3             -2.08043  \n",
              "4             -2.08402  "
            ],
            "text/html": [
              "\n",
              "  <div id=\"df-9f0402c1-f0bf-44b1-9776-1bae6fc29ee4\" class=\"colab-df-container\">\n",
              "    <div>\n",
              "<style scoped>\n",
              "    .dataframe tbody tr th:only-of-type {\n",
              "        vertical-align: middle;\n",
              "    }\n",
              "\n",
              "    .dataframe tbody tr th {\n",
              "        vertical-align: top;\n",
              "    }\n",
              "\n",
              "    .dataframe thead th {\n",
              "        text-align: right;\n",
              "    }\n",
              "</style>\n",
              "<table border=\"1\" class=\"dataframe\">\n",
              "  <thead>\n",
              "    <tr style=\"text-align: right;\">\n",
              "      <th></th>\n",
              "      <th>Exchange Rate</th>\n",
              "      <th>R ROI</th>\n",
              "      <th>Inflation</th>\n",
              "      <th>Gov Effectiveness</th>\n",
              "      <th>BOP(Trade)</th>\n",
              "      <th>Political stability</th>\n",
              "    </tr>\n",
              "  </thead>\n",
              "  <tbody>\n",
              "    <tr>\n",
              "      <th>0</th>\n",
              "      <td>35.43317</td>\n",
              "      <td>1.468708</td>\n",
              "      <td>6.045948</td>\n",
              "      <td>-1.63653</td>\n",
              "      <td>1.810000e+11</td>\n",
              "      <td>-1.90759</td>\n",
              "    </tr>\n",
              "    <tr>\n",
              "      <th>1</th>\n",
              "      <td>36.31329</td>\n",
              "      <td>0.306232</td>\n",
              "      <td>4.826562</td>\n",
              "      <td>-1.63653</td>\n",
              "      <td>1.880000e+11</td>\n",
              "      <td>-1.90759</td>\n",
              "    </tr>\n",
              "    <tr>\n",
              "      <th>2</th>\n",
              "      <td>41.25937</td>\n",
              "      <td>-2.028670</td>\n",
              "      <td>11.678560</td>\n",
              "      <td>-1.81298</td>\n",
              "      <td>2.370000e+11</td>\n",
              "      <td>-2.08043</td>\n",
              "    </tr>\n",
              "    <tr>\n",
              "      <th>3</th>\n",
              "      <td>43.05543</td>\n",
              "      <td>2.703980</td>\n",
              "      <td>2.481793</td>\n",
              "      <td>-1.81298</td>\n",
              "      <td>3.280000e+11</td>\n",
              "      <td>-2.08043</td>\n",
              "    </tr>\n",
              "    <tr>\n",
              "      <th>4</th>\n",
              "      <td>44.94161</td>\n",
              "      <td>1.528818</td>\n",
              "      <td>0.632579</td>\n",
              "      <td>-1.91224</td>\n",
              "      <td>4.360000e+11</td>\n",
              "      <td>-2.08402</td>\n",
              "    </tr>\n",
              "  </tbody>\n",
              "</table>\n",
              "</div>\n",
              "    <div class=\"colab-df-buttons\">\n",
              "\n",
              "  <div class=\"colab-df-container\">\n",
              "    <button class=\"colab-df-convert\" onclick=\"convertToInteractive('df-9f0402c1-f0bf-44b1-9776-1bae6fc29ee4')\"\n",
              "            title=\"Convert this dataframe to an interactive table.\"\n",
              "            style=\"display:none;\">\n",
              "\n",
              "  <svg xmlns=\"http://www.w3.org/2000/svg\" height=\"24px\" viewBox=\"0 -960 960 960\">\n",
              "    <path d=\"M120-120v-720h720v720H120Zm60-500h600v-160H180v160Zm220 220h160v-160H400v160Zm0 220h160v-160H400v160ZM180-400h160v-160H180v160Zm440 0h160v-160H620v160ZM180-180h160v-160H180v160Zm440 0h160v-160H620v160Z\"/>\n",
              "  </svg>\n",
              "    </button>\n",
              "\n",
              "  <style>\n",
              "    .colab-df-container {\n",
              "      display:flex;\n",
              "      gap: 12px;\n",
              "    }\n",
              "\n",
              "    .colab-df-convert {\n",
              "      background-color: #E8F0FE;\n",
              "      border: none;\n",
              "      border-radius: 50%;\n",
              "      cursor: pointer;\n",
              "      display: none;\n",
              "      fill: #1967D2;\n",
              "      height: 32px;\n",
              "      padding: 0 0 0 0;\n",
              "      width: 32px;\n",
              "    }\n",
              "\n",
              "    .colab-df-convert:hover {\n",
              "      background-color: #E2EBFA;\n",
              "      box-shadow: 0px 1px 2px rgba(60, 64, 67, 0.3), 0px 1px 3px 1px rgba(60, 64, 67, 0.15);\n",
              "      fill: #174EA6;\n",
              "    }\n",
              "\n",
              "    .colab-df-buttons div {\n",
              "      margin-bottom: 4px;\n",
              "    }\n",
              "\n",
              "    [theme=dark] .colab-df-convert {\n",
              "      background-color: #3B4455;\n",
              "      fill: #D2E3FC;\n",
              "    }\n",
              "\n",
              "    [theme=dark] .colab-df-convert:hover {\n",
              "      background-color: #434B5C;\n",
              "      box-shadow: 0px 1px 3px 1px rgba(0, 0, 0, 0.15);\n",
              "      filter: drop-shadow(0px 1px 2px rgba(0, 0, 0, 0.3));\n",
              "      fill: #FFFFFF;\n",
              "    }\n",
              "  </style>\n",
              "\n",
              "    <script>\n",
              "      const buttonEl =\n",
              "        document.querySelector('#df-9f0402c1-f0bf-44b1-9776-1bae6fc29ee4 button.colab-df-convert');\n",
              "      buttonEl.style.display =\n",
              "        google.colab.kernel.accessAllowed ? 'block' : 'none';\n",
              "\n",
              "      async function convertToInteractive(key) {\n",
              "        const element = document.querySelector('#df-9f0402c1-f0bf-44b1-9776-1bae6fc29ee4');\n",
              "        const dataTable =\n",
              "          await google.colab.kernel.invokeFunction('convertToInteractive',\n",
              "                                                    [key], {});\n",
              "        if (!dataTable) return;\n",
              "\n",
              "        const docLinkHtml = 'Like what you see? Visit the ' +\n",
              "          '<a target=\"_blank\" href=https://colab.research.google.com/notebooks/data_table.ipynb>data table notebook</a>'\n",
              "          + ' to learn more about interactive tables.';\n",
              "        element.innerHTML = '';\n",
              "        dataTable['output_type'] = 'display_data';\n",
              "        await google.colab.output.renderOutput(dataTable, element);\n",
              "        const docLink = document.createElement('div');\n",
              "        docLink.innerHTML = docLinkHtml;\n",
              "        element.appendChild(docLink);\n",
              "      }\n",
              "    </script>\n",
              "  </div>\n",
              "\n",
              "\n",
              "<div id=\"df-8dd31145-7505-45df-8c8b-861196d196d3\">\n",
              "  <button class=\"colab-df-quickchart\" onclick=\"quickchart('df-8dd31145-7505-45df-8c8b-861196d196d3')\"\n",
              "            title=\"Suggest charts\"\n",
              "            style=\"display:none;\">\n",
              "\n",
              "<svg xmlns=\"http://www.w3.org/2000/svg\" height=\"24px\"viewBox=\"0 0 24 24\"\n",
              "     width=\"24px\">\n",
              "    <g>\n",
              "        <path d=\"M19 3H5c-1.1 0-2 .9-2 2v14c0 1.1.9 2 2 2h14c1.1 0 2-.9 2-2V5c0-1.1-.9-2-2-2zM9 17H7v-7h2v7zm4 0h-2V7h2v10zm4 0h-2v-4h2v4z\"/>\n",
              "    </g>\n",
              "</svg>\n",
              "  </button>\n",
              "\n",
              "<style>\n",
              "  .colab-df-quickchart {\n",
              "      --bg-color: #E8F0FE;\n",
              "      --fill-color: #1967D2;\n",
              "      --hover-bg-color: #E2EBFA;\n",
              "      --hover-fill-color: #174EA6;\n",
              "      --disabled-fill-color: #AAA;\n",
              "      --disabled-bg-color: #DDD;\n",
              "  }\n",
              "\n",
              "  [theme=dark] .colab-df-quickchart {\n",
              "      --bg-color: #3B4455;\n",
              "      --fill-color: #D2E3FC;\n",
              "      --hover-bg-color: #434B5C;\n",
              "      --hover-fill-color: #FFFFFF;\n",
              "      --disabled-bg-color: #3B4455;\n",
              "      --disabled-fill-color: #666;\n",
              "  }\n",
              "\n",
              "  .colab-df-quickchart {\n",
              "    background-color: var(--bg-color);\n",
              "    border: none;\n",
              "    border-radius: 50%;\n",
              "    cursor: pointer;\n",
              "    display: none;\n",
              "    fill: var(--fill-color);\n",
              "    height: 32px;\n",
              "    padding: 0;\n",
              "    width: 32px;\n",
              "  }\n",
              "\n",
              "  .colab-df-quickchart:hover {\n",
              "    background-color: var(--hover-bg-color);\n",
              "    box-shadow: 0 1px 2px rgba(60, 64, 67, 0.3), 0 1px 3px 1px rgba(60, 64, 67, 0.15);\n",
              "    fill: var(--button-hover-fill-color);\n",
              "  }\n",
              "\n",
              "  .colab-df-quickchart-complete:disabled,\n",
              "  .colab-df-quickchart-complete:disabled:hover {\n",
              "    background-color: var(--disabled-bg-color);\n",
              "    fill: var(--disabled-fill-color);\n",
              "    box-shadow: none;\n",
              "  }\n",
              "\n",
              "  .colab-df-spinner {\n",
              "    border: 2px solid var(--fill-color);\n",
              "    border-color: transparent;\n",
              "    border-bottom-color: var(--fill-color);\n",
              "    animation:\n",
              "      spin 1s steps(1) infinite;\n",
              "  }\n",
              "\n",
              "  @keyframes spin {\n",
              "    0% {\n",
              "      border-color: transparent;\n",
              "      border-bottom-color: var(--fill-color);\n",
              "      border-left-color: var(--fill-color);\n",
              "    }\n",
              "    20% {\n",
              "      border-color: transparent;\n",
              "      border-left-color: var(--fill-color);\n",
              "      border-top-color: var(--fill-color);\n",
              "    }\n",
              "    30% {\n",
              "      border-color: transparent;\n",
              "      border-left-color: var(--fill-color);\n",
              "      border-top-color: var(--fill-color);\n",
              "      border-right-color: var(--fill-color);\n",
              "    }\n",
              "    40% {\n",
              "      border-color: transparent;\n",
              "      border-right-color: var(--fill-color);\n",
              "      border-top-color: var(--fill-color);\n",
              "    }\n",
              "    60% {\n",
              "      border-color: transparent;\n",
              "      border-right-color: var(--fill-color);\n",
              "    }\n",
              "    80% {\n",
              "      border-color: transparent;\n",
              "      border-right-color: var(--fill-color);\n",
              "      border-bottom-color: var(--fill-color);\n",
              "    }\n",
              "    90% {\n",
              "      border-color: transparent;\n",
              "      border-bottom-color: var(--fill-color);\n",
              "    }\n",
              "  }\n",
              "</style>\n",
              "\n",
              "  <script>\n",
              "    async function quickchart(key) {\n",
              "      const quickchartButtonEl =\n",
              "        document.querySelector('#' + key + ' button');\n",
              "      quickchartButtonEl.disabled = true;  // To prevent multiple clicks.\n",
              "      quickchartButtonEl.classList.add('colab-df-spinner');\n",
              "      try {\n",
              "        const charts = await google.colab.kernel.invokeFunction(\n",
              "            'suggestCharts', [key], {});\n",
              "      } catch (error) {\n",
              "        console.error('Error during call to suggestCharts:', error);\n",
              "      }\n",
              "      quickchartButtonEl.classList.remove('colab-df-spinner');\n",
              "      quickchartButtonEl.classList.add('colab-df-quickchart-complete');\n",
              "    }\n",
              "    (() => {\n",
              "      let quickchartButtonEl =\n",
              "        document.querySelector('#df-8dd31145-7505-45df-8c8b-861196d196d3 button');\n",
              "      quickchartButtonEl.style.display =\n",
              "        google.colab.kernel.accessAllowed ? 'block' : 'none';\n",
              "    })();\n",
              "  </script>\n",
              "</div>\n",
              "\n",
              "    </div>\n",
              "  </div>\n"
            ],
            "application/vnd.google.colaboratory.intrinsic+json": {
              "type": "dataframe",
              "variable_name": "df",
              "summary": "{\n  \"name\": \"df\",\n  \"rows\": 26,\n  \"fields\": [\n    {\n      \"column\": \"Exchange Rate\",\n      \"properties\": {\n        \"dtype\": \"number\",\n        \"std\": 11.832080261022572,\n        \"min\": 35.43317,\n        \"max\": 74.09957,\n        \"num_unique_values\": 26,\n        \"samples\": [\n          45.31647,\n          53.43723,\n          35.43317\n        ],\n        \"semantic_type\": \"\",\n        \"description\": \"\"\n      }\n    },\n    {\n      \"column\": \"R ROI\",\n      \"properties\": {\n        \"dtype\": \"number\",\n        \"std\": 2.308918911967235,\n        \"min\": -3.99414,\n        \"max\": 5.245974,\n        \"num_unique_values\": 26,\n        \"samples\": [\n          3.302448,\n          1.111057,\n          1.468708\n        ],\n        \"semantic_type\": \"\",\n        \"description\": \"\"\n      }\n    },\n    {\n      \"column\": \"Inflation\",\n      \"properties\": {\n        \"dtype\": \"number\",\n        \"std\": 3.327080651586783,\n        \"min\": 0.433549,\n        \"max\": 11.67856,\n        \"num_unique_values\": 26,\n        \"samples\": [\n          1.090015,\n          7.40966,\n          6.045948\n        ],\n        \"semantic_type\": \"\",\n        \"description\": \"\"\n      }\n    },\n    {\n      \"column\": \"Gov Effectiveness\",\n      \"properties\": {\n        \"dtype\": \"number\",\n        \"std\": 0.25174201837962246,\n        \"min\": -1.91996,\n        \"max\": -0.9001,\n        \"num_unique_values\": 22,\n        \"samples\": [\n          -1.63653,\n          -1.67397,\n          -1.50628\n        ],\n        \"semantic_type\": \"\",\n        \"description\": \"\"\n      }\n    },\n    {\n      \"column\": \"BOP(Trade)\",\n      \"properties\": {\n        \"dtype\": \"number\",\n        \"std\": 191879661807.56265,\n        \"min\": 181000000000.0,\n        \"max\": 907000000000.0,\n        \"num_unique_values\": 26,\n        \"samples\": [\n          647000000000.0,\n          539000000000.0,\n          181000000000.0\n        ],\n        \"semantic_type\": \"\",\n        \"description\": \"\"\n      }\n    },\n    {\n      \"column\": \"Political stability\",\n      \"properties\": {\n        \"dtype\": \"number\",\n        \"std\": 0.4258472946168163,\n        \"min\": -2.08402,\n        \"max\": -0.67712,\n        \"num_unique_values\": 23,\n        \"samples\": [\n          -1.58033,\n          -1.69237,\n          -1.90759\n        ],\n        \"semantic_type\": \"\",\n        \"description\": \"\"\n      }\n    }\n  ]\n}"
            }
          },
          "metadata": {},
          "execution_count": 4
        }
      ]
    },
    {
      "cell_type": "code",
      "source": [
        "Col = df[['R ROI','Inflation','Gov Effectiveness','BOP(Trade)','Political stability']]"
      ],
      "metadata": {
        "id": "FKKpi0LOZ11f"
      },
      "execution_count": null,
      "outputs": []
    },
    {
      "cell_type": "code",
      "source": [
        "import matplotlib.pyplot as plt\n",
        "import statsmodels.api as sm\n",
        "\n",
        "# Plot histograms\n",
        "df.hist(figsize=(10, 8))\n",
        "plt.tight_layout()\n",
        "plt.show()\n",
        "\n",
        "# Plot Q-Q plots\n",
        "for col in Col.columns:\n",
        "    sm.qqplot(df[col], line='s')\n",
        "    plt.title(f'Q-Q Plot for {col}')\n",
        "    plt.show()"
      ],
      "metadata": {
        "colab": {
          "base_uri": "https://localhost:8080/",
          "height": 1000
        },
        "id": "wQH_VidPcwSg",
        "outputId": "e7ebd572-9793-4906-a1f9-7b50a9bb21a5"
      },
      "execution_count": null,
      "outputs": [
        {
          "output_type": "display_data",
          "data": {
            "text/plain": [
              "<Figure size 1000x800 with 6 Axes>"
            ],
            "image/png": "[encoded data removed]"
          },
          "metadata": {}
        },
        {
          "output_type": "display_data",
          "data": {
            "text/plain": [
              "<Figure size 640x480 with 1 Axes>"
            ],
            "image/png": "[encoded data removed]"
          },
          "metadata": {}
        },
        {
          "output_type": "display_data",
          "data": {
            "text/plain": [
              "<Figure size 640x480 with 1 Axes>"
            ],
            "image/png": "[encoded data removed]"
          },
          "metadata": {}
        },
        {
          "output_type": "display_data",
          "data": {
            "text/plain": [
              "<Figure size 640x480 with 1 Axes>"
            ],
            "image/png": "[encoded data removed]"
          },
          "metadata": {}
        },
        {
          "output_type": "display_data",
          "data": {
            "text/plain": [
              "<Figure size 640x480 with 1 Axes>"
            ],
            "image/png": "[encoded data removed]"
          },
          "metadata": {}
        },
        {
          "output_type": "display_data",
          "data": {
            "text/plain": [
              "<Figure size 640x480 with 1 Axes>"
            ],
            "image/png": "[encoded data removed]"
          },
          "metadata": {}
        }
      ]
    },
    {
      "cell_type": "code",
      "source": [
        "from scipy.stats import shapiro, kstest\n",
        "\n",
        "# Perform Shapiro-Wilk test\n",
        "for col in Col.columns:\n",
        "    statistic, p_value = shapiro(df[col])\n",
        "    print(f\"Shapiro-Wilk Test for {col}: Statistic={statistic:.3f}, p-value={p_value:.3f}\")\n",
        "    if p_value > 0.05:\n",
        "        print(\"Likely Gaussian\")\n",
        "    else:\n",
        "        print(\"Likely not Gaussian\")"
      ],
      "metadata": {
        "colab": {
          "base_uri": "https://localhost:8080/"
        },
        "id": "knqo7l6ldAwH",
        "outputId": "60aee01d-3d9a-472d-fd36-c95f98e7c538"
      },
      "execution_count": null,
      "outputs": [
        {
          "output_type": "stream",
          "name": "stdout",
          "text": [
            "Shapiro-Wilk Test for R ROI: Statistic=0.946, p-value=0.185\n",
            "Likely Gaussian\n",
            "Shapiro-Wilk Test for Inflation: Statistic=0.894, p-value=0.012\n",
            "Likely not Gaussian\n",
            "Shapiro-Wilk Test for Gov Effectiveness: Statistic=0.931, p-value=0.081\n",
            "Likely Gaussian\n",
            "Shapiro-Wilk Test for BOP(Trade): Statistic=0.966, p-value=0.525\n",
            "Likely Gaussian\n",
            "Shapiro-Wilk Test for Political stability: Statistic=0.917, p-value=0.038\n",
            "Likely not Gaussian\n"
          ]
        }
      ]
    },
    {
      "cell_type": "markdown",
      "source": [
        "Since most of the columns form gaussian distribution we used Standard scaler method for feature scaling."
      ],
      "metadata": {
        "id": "nqcIT2c0eACj"
      }
    },
    {
      "cell_type": "code",
      "source": [
        "from sklearn.preprocessing import StandardScaler\n",
        "\n",
        "scaler = StandardScaler()\n",
        "num_scaled = scaler.fit_transform(Col)\n",
        "df[Col.columns] = num_scaled"
      ],
      "metadata": {
        "id": "_XFtWFo-acZL"
      },
      "execution_count": null,
      "outputs": []
    },
    {
      "cell_type": "code",
      "source": [
        "df.head()"
      ],
      "metadata": {
        "colab": {
          "base_uri": "https://localhost:8080/",
          "height": 223
        },
        "id": "wPJVJ1eWajJG",
        "outputId": "889dccde-8168-4432-e289-a5cc58af8b91"
      },
      "execution_count": null,
      "outputs": [
        {
          "output_type": "execute_result",
          "data": {
            "text/plain": [
              "   Exchange Rate     R ROI  Inflation  Gov Effectiveness  BOP(Trade)  \\\n",
              "0       35.43317 -0.216762   0.548502          -0.260946   -2.037003   \n",
              "1       36.31329 -0.730204   0.174741          -0.260946   -1.999799   \n",
              "2       41.25937 -1.761484   2.274989          -0.975743   -1.739374   \n",
              "3       43.05543  0.328834  -0.543969          -0.975743   -1.255726   \n",
              "4       44.94161 -0.190212  -1.110782          -1.377844   -0.681727   \n",
              "\n",
              "   Political stability  \n",
              "0            -0.827792  \n",
              "1            -0.827792  \n",
              "2            -1.241703  \n",
              "3            -1.241703  \n",
              "4            -1.250300  "
            ],
            "text/html": [
              "\n",
              "  <div id=\"df-5b4e3880-d2ff-460b-af15-0ab2108f8708\" class=\"colab-df-container\">\n",
              "    <div>\n",
              "<style scoped>\n",
              "    .dataframe tbody tr th:only-of-type {\n",
              "        vertical-align: middle;\n",
              "    }\n",
              "\n",
              "    .dataframe tbody tr th {\n",
              "        vertical-align: top;\n",
              "    }\n",
              "\n",
              "    .dataframe thead th {\n",
              "        text-align: right;\n",
              "    }\n",
              "</style>\n",
              "<table border=\"1\" class=\"dataframe\">\n",
              "  <thead>\n",
              "    <tr style=\"text-align: right;\">\n",
              "      <th></th>\n",
              "      <th>Exchange Rate</th>\n",
              "      <th>R ROI</th>\n",
              "      <th>Inflation</th>\n",
              "      <th>Gov Effectiveness</th>\n",
              "      <th>BOP(Trade)</th>\n",
              "      <th>Political stability</th>\n",
              "    </tr>\n",
              "  </thead>\n",
              "  <tbody>\n",
              "    <tr>\n",
              "      <th>0</th>\n",
              "      <td>35.43317</td>\n",
              "      <td>-0.216762</td>\n",
              "      <td>0.548502</td>\n",
              "      <td>-0.260946</td>\n",
              "      <td>-2.037003</td>\n",
              "      <td>-0.827792</td>\n",
              "    </tr>\n",
              "    <tr>\n",
              "      <th>1</th>\n",
              "      <td>36.31329</td>\n",
              "      <td>-0.730204</td>\n",
              "      <td>0.174741</td>\n",
              "      <td>-0.260946</td>\n",
              "      <td>-1.999799</td>\n",
              "      <td>-0.827792</td>\n",
              "    </tr>\n",
              "    <tr>\n",
              "      <th>2</th>\n",
              "      <td>41.25937</td>\n",
              "      <td>-1.761484</td>\n",
              "      <td>2.274989</td>\n",
              "      <td>-0.975743</td>\n",
              "      <td>-1.739374</td>\n",
              "      <td>-1.241703</td>\n",
              "    </tr>\n",
              "    <tr>\n",
              "      <th>3</th>\n",
              "      <td>43.05543</td>\n",
              "      <td>0.328834</td>\n",
              "      <td>-0.543969</td>\n",
              "      <td>-0.975743</td>\n",
              "      <td>-1.255726</td>\n",
              "      <td>-1.241703</td>\n",
              "    </tr>\n",
              "    <tr>\n",
              "      <th>4</th>\n",
              "      <td>44.94161</td>\n",
              "      <td>-0.190212</td>\n",
              "      <td>-1.110782</td>\n",
              "      <td>-1.377844</td>\n",
              "      <td>-0.681727</td>\n",
              "      <td>-1.250300</td>\n",
              "    </tr>\n",
              "  </tbody>\n",
              "</table>\n",
              "</div>\n",
              "    <div class=\"colab-df-buttons\">\n",
              "\n",
              "  <div class=\"colab-df-container\">\n",
              "    <button class=\"colab-df-convert\" onclick=\"convertToInteractive('df-5b4e3880-d2ff-460b-af15-0ab2108f8708')\"\n",
              "            title=\"Convert this dataframe to an interactive table.\"\n",
              "            style=\"display:none;\">\n",
              "\n",
              "  <svg xmlns=\"http://www.w3.org/2000/svg\" height=\"24px\" viewBox=\"0 -960 960 960\">\n",
              "    <path d=\"M120-120v-720h720v720H120Zm60-500h600v-160H180v160Zm220 220h160v-160H400v160Zm0 220h160v-160H400v160ZM180-400h160v-160H180v160Zm440 0h160v-160H620v160ZM180-180h160v-160H180v160Zm440 0h160v-160H620v160Z\"/>\n",
              "  </svg>\n",
              "    </button>\n",
              "\n",
              "  <style>\n",
              "    .colab-df-container {\n",
              "      display:flex;\n",
              "      gap: 12px;\n",
              "    }\n",
              "\n",
              "    .colab-df-convert {\n",
              "      background-color: #E8F0FE;\n",
              "      border: none;\n",
              "      border-radius: 50%;\n",
              "      cursor: pointer;\n",
              "      display: none;\n",
              "      fill: #1967D2;\n",
              "      height: 32px;\n",
              "      padding: 0 0 0 0;\n",
              "      width: 32px;\n",
              "    }\n",
              "\n",
              "    .colab-df-convert:hover {\n",
              "      background-color: #E2EBFA;\n",
              "      box-shadow: 0px 1px 2px rgba(60, 64, 67, 0.3), 0px 1px 3px 1px rgba(60, 64, 67, 0.15);\n",
              "      fill: #174EA6;\n",
              "    }\n",
              "\n",
              "    .colab-df-buttons div {\n",
              "      margin-bottom: 4px;\n",
              "    }\n",
              "\n",
              "    [theme=dark] .colab-df-convert {\n",
              "      background-color: #3B4455;\n",
              "      fill: #D2E3FC;\n",
              "    }\n",
              "\n",
              "    [theme=dark] .colab-df-convert:hover {\n",
              "      background-color: #434B5C;\n",
              "      box-shadow: 0px 1px 3px 1px rgba(0, 0, 0, 0.15);\n",
              "      filter: drop-shadow(0px 1px 2px rgba(0, 0, 0, 0.3));\n",
              "      fill: #FFFFFF;\n",
              "    }\n",
              "  </style>\n",
              "\n",
              "    <script>\n",
              "      const buttonEl =\n",
              "        document.querySelector('#df-5b4e3880-d2ff-460b-af15-0ab2108f8708 button.colab-df-convert');\n",
              "      buttonEl.style.display =\n",
              "        google.colab.kernel.accessAllowed ? 'block' : 'none';\n",
              "\n",
              "      async function convertToInteractive(key) {\n",
              "        const element = document.querySelector('#df-5b4e3880-d2ff-460b-af15-0ab2108f8708');\n",
              "        const dataTable =\n",
              "          await google.colab.kernel.invokeFunction('convertToInteractive',\n",
              "                                                    [key], {});\n",
              "        if (!dataTable) return;\n",
              "\n",
              "        const docLinkHtml = 'Like what you see? Visit the ' +\n",
              "          '<a target=\"_blank\" href=https://colab.research.google.com/notebooks/data_table.ipynb>data table notebook</a>'\n",
              "          + ' to learn more about interactive tables.';\n",
              "        element.innerHTML = '';\n",
              "        dataTable['output_type'] = 'display_data';\n",
              "        await google.colab.output.renderOutput(dataTable, element);\n",
              "        const docLink = document.createElement('div');\n",
              "        docLink.innerHTML = docLinkHtml;\n",
              "        element.appendChild(docLink);\n",
              "      }\n",
              "    </script>\n",
              "  </div>\n",
              "\n",
              "\n",
              "<div id=\"df-8bb968e2-1e3f-4277-a64b-81afad45c1b4\">\n",
              "  <button class=\"colab-df-quickchart\" onclick=\"quickchart('df-8bb968e2-1e3f-4277-a64b-81afad45c1b4')\"\n",
              "            title=\"Suggest charts\"\n",
              "            style=\"display:none;\">\n",
              "\n",
              "<svg xmlns=\"http://www.w3.org/2000/svg\" height=\"24px\"viewBox=\"0 0 24 24\"\n",
              "     width=\"24px\">\n",
              "    <g>\n",
              "        <path d=\"M19 3H5c-1.1 0-2 .9-2 2v14c0 1.1.9 2 2 2h14c1.1 0 2-.9 2-2V5c0-1.1-.9-2-2-2zM9 17H7v-7h2v7zm4 0h-2V7h2v10zm4 0h-2v-4h2v4z\"/>\n",
              "    </g>\n",
              "</svg>\n",
              "  </button>\n",
              "\n",
              "<style>\n",
              "  .colab-df-quickchart {\n",
              "      --bg-color: #E8F0FE;\n",
              "      --fill-color: #1967D2;\n",
              "      --hover-bg-color: #E2EBFA;\n",
              "      --hover-fill-color: #174EA6;\n",
              "      --disabled-fill-color: #AAA;\n",
              "      --disabled-bg-color: #DDD;\n",
              "  }\n",
              "\n",
              "  [theme=dark] .colab-df-quickchart {\n",
              "      --bg-color: #3B4455;\n",
              "      --fill-color: #D2E3FC;\n",
              "      --hover-bg-color: #434B5C;\n",
              "      --hover-fill-color: #FFFFFF;\n",
              "      --disabled-bg-color: #3B4455;\n",
              "      --disabled-fill-color: #666;\n",
              "  }\n",
              "\n",
              "  .colab-df-quickchart {\n",
              "    background-color: var(--bg-color);\n",
              "    border: none;\n",
              "    border-radius: 50%;\n",
              "    cursor: pointer;\n",
              "    display: none;\n",
              "    fill: var(--fill-color);\n",
              "    height: 32px;\n",
              "    padding: 0;\n",
              "    width: 32px;\n",
              "  }\n",
              "\n",
              "  .colab-df-quickchart:hover {\n",
              "    background-color: var(--hover-bg-color);\n",
              "    box-shadow: 0 1px 2px rgba(60, 64, 67, 0.3), 0 1px 3px 1px rgba(60, 64, 67, 0.15);\n",
              "    fill: var(--button-hover-fill-color);\n",
              "  }\n",
              "\n",
              "  .colab-df-quickchart-complete:disabled,\n",
              "  .colab-df-quickchart-complete:disabled:hover {\n",
              "    background-color: var(--disabled-bg-color);\n",
              "    fill: var(--disabled-fill-color);\n",
              "    box-shadow: none;\n",
              "  }\n",
              "\n",
              "  .colab-df-spinner {\n",
              "    border: 2px solid var(--fill-color);\n",
              "    border-color: transparent;\n",
              "    border-bottom-color: var(--fill-color);\n",
              "    animation:\n",
              "      spin 1s steps(1) infinite;\n",
              "  }\n",
              "\n",
              "  @keyframes spin {\n",
              "    0% {\n",
              "      border-color: transparent;\n",
              "      border-bottom-color: var(--fill-color);\n",
              "      border-left-color: var(--fill-color);\n",
              "    }\n",
              "    20% {\n",
              "      border-color: transparent;\n",
              "      border-left-color: var(--fill-color);\n",
              "      border-top-color: var(--fill-color);\n",
              "    }\n",
              "    30% {\n",
              "      border-color: transparent;\n",
              "      border-left-color: var(--fill-color);\n",
              "      border-top-color: var(--fill-color);\n",
              "      border-right-color: var(--fill-color);\n",
              "    }\n",
              "    40% {\n",
              "      border-color: transparent;\n",
              "      border-right-color: var(--fill-color);\n",
              "      border-top-color: var(--fill-color);\n",
              "    }\n",
              "    60% {\n",
              "      border-color: transparent;\n",
              "      border-right-color: var(--fill-color);\n",
              "    }\n",
              "    80% {\n",
              "      border-color: transparent;\n",
              "      border-right-color: var(--fill-color);\n",
              "      border-bottom-color: var(--fill-color);\n",
              "    }\n",
              "    90% {\n",
              "      border-color: transparent;\n",
              "      border-bottom-color: var(--fill-color);\n",
              "    }\n",
              "  }\n",
              "</style>\n",
              "\n",
              "  <script>\n",
              "    async function quickchart(key) {\n",
              "      const quickchartButtonEl =\n",
              "        document.querySelector('#' + key + ' button');\n",
              "      quickchartButtonEl.disabled = true;  // To prevent multiple clicks.\n",
              "      quickchartButtonEl.classList.add('colab-df-spinner');\n",
              "      try {\n",
              "        const charts = await google.colab.kernel.invokeFunction(\n",
              "            'suggestCharts', [key], {});\n",
              "      } catch (error) {\n",
              "        console.error('Error during call to suggestCharts:', error);\n",
              "      }\n",
              "      quickchartButtonEl.classList.remove('colab-df-spinner');\n",
              "      quickchartButtonEl.classList.add('colab-df-quickchart-complete');\n",
              "    }\n",
              "    (() => {\n",
              "      let quickchartButtonEl =\n",
              "        document.querySelector('#df-8bb968e2-1e3f-4277-a64b-81afad45c1b4 button');\n",
              "      quickchartButtonEl.style.display =\n",
              "        google.colab.kernel.accessAllowed ? 'block' : 'none';\n",
              "    })();\n",
              "  </script>\n",
              "</div>\n",
              "\n",
              "    </div>\n",
              "  </div>\n"
            ],
            "application/vnd.google.colaboratory.intrinsic+json": {
              "type": "dataframe",
              "variable_name": "df",
              "summary": "{\n  \"name\": \"df\",\n  \"rows\": 26,\n  \"fields\": [\n    {\n      \"column\": \"Exchange Rate\",\n      \"properties\": {\n        \"dtype\": \"number\",\n        \"std\": 11.832080261022572,\n        \"min\": 35.43317,\n        \"max\": 74.09957,\n        \"num_unique_values\": 26,\n        \"samples\": [\n          45.31647,\n          53.43723,\n          35.43317\n        ],\n        \"semantic_type\": \"\",\n        \"description\": \"\"\n      }\n    },\n    {\n      \"column\": \"R ROI\",\n      \"properties\": {\n        \"dtype\": \"number\",\n        \"std\": 1.019803902718557,\n        \"min\": -2.6295937896450585,\n        \"max\": 1.4515821537473175,\n        \"num_unique_values\": 26,\n        \"samples\": [\n          0.593165086971127,\n          -0.37472905716676597,\n          -0.21676167090613907\n        ],\n        \"semantic_type\": \"\",\n        \"description\": \"\"\n      }\n    },\n    {\n      \"column\": \"Inflation\",\n      \"properties\": {\n        \"dtype\": \"number\",\n        \"std\": 1.019803902718557,\n        \"min\": -1.171788372875593,\n        \"max\": 2.2749889387726276,\n        \"num_unique_values\": 26,\n        \"samples\": [\n          -0.9705709516860128,\n          0.9665022093514569,\n          0.5485024776284362\n        ],\n        \"semantic_type\": \"\",\n        \"description\": \"\"\n      }\n    },\n    {\n      \"column\": \"Gov Effectiveness\",\n      \"properties\": {\n        \"dtype\": \"number\",\n        \"std\": 1.019803902718557,\n        \"min\": -1.4091174888352334,\n        \"max\": 2.7223231618795,\n        \"num_unique_values\": 22,\n        \"samples\": [\n          -0.2609459519261703,\n          -0.4126149437120618,\n          0.26669523878196\n        ],\n        \"semantic_type\": \"\",\n        \"description\": \"\"\n      }\n    },\n    {\n      \"column\": \"BOP(Trade)\",\n      \"properties\": {\n        \"dtype\": \"number\",\n        \"std\": 1.019803902718557,\n        \"min\": -2.0370030551877676,\n        \"max\": 1.8215488434298248,\n        \"num_unique_values\": 26,\n        \"samples\": [\n          0.43969830122517733,\n          -0.13430115476752238,\n          -2.0370030551877676\n        ],\n        \"semantic_type\": \"\",\n        \"description\": \"\"\n      }\n    },\n    {\n      \"column\": \"Political stability\",\n      \"properties\": {\n        \"dtype\": \"number\",\n        \"std\": 1.019803902718557,\n        \"min\": -1.2502999988823722,\n        \"max\": 2.1188939090553505,\n        \"num_unique_values\": 23,\n        \"samples\": [\n          -0.0440811635073264,\n          -0.31239055681555167,\n          -0.8277917316441511\n        ],\n        \"semantic_type\": \"\",\n        \"description\": \"\"\n      }\n    }\n  ]\n}"
            }
          },
          "metadata": {},
          "execution_count": 9
        }
      ]
    },
    {
      "cell_type": "code",
      "source": [
        "import pandas as pd\n",
        "\n",
        "correlation_matrix = df.corr()\n",
        "print(correlation_matrix)"
      ],
      "metadata": {
        "colab": {
          "base_uri": "https://localhost:8080/"
        },
        "id": "jaSrBBV2eNAr",
        "outputId": "d42a7a43-92b1-44f7-ad7e-9d7a4cd380c2"
      },
      "execution_count": null,
      "outputs": [
        {
          "output_type": "stream",
          "name": "stdout",
          "text": [
            "                     Exchange Rate     R ROI  Inflation  Gov Effectiveness  \\\n",
            "Exchange Rate             1.000000  0.396075  -0.199849           0.741508   \n",
            "R ROI                     0.396075  1.000000  -0.469898           0.003086   \n",
            "Inflation                -0.199849 -0.469898   1.000000           0.001815   \n",
            "Gov Effectiveness         0.741508  0.003086   0.001815           1.000000   \n",
            "BOP(Trade)                0.612505  0.085726  -0.416910           0.574281   \n",
            "Political stability       0.644741  0.224962  -0.447738           0.637492   \n",
            "\n",
            "                     BOP(Trade)  Political stability  \n",
            "Exchange Rate          0.612505             0.644741  \n",
            "R ROI                  0.085726             0.224962  \n",
            "Inflation             -0.416910            -0.447738  \n",
            "Gov Effectiveness      0.574281             0.637492  \n",
            "BOP(Trade)             1.000000             0.763827  \n",
            "Political stability    0.763827             1.000000  \n"
          ]
        }
      ]
    },
    {
      "cell_type": "markdown",
      "source": [
        "Correlation between Exchange Rates and various factors\n",
        "R ROI 0.396\n",
        "Inflation -0.2\n",
        "Gov effectiveness 0.742\n",
        "BOP 0.612\n",
        "Political stability 0.645"
      ],
      "metadata": {
        "id": "T7VZBI6Age4b"
      }
    },
    {
      "cell_type": "code",
      "source": [
        "import seaborn as sns\n",
        "import matplotlib.pyplot as plt\n",
        "\n",
        "plt.figure(figsize=(10, 8))\n",
        "sns.heatmap(correlation_matrix, annot=True, cmap='coolwarm', center=0)\n",
        "plt.title('Correlation Matrix')\n",
        "plt.show()"
      ],
      "metadata": {
        "colab": {
          "base_uri": "https://localhost:8080/",
          "height": 630
        },
        "id": "haGBXBjnjJDo",
        "outputId": "60a80bf8-686e-4277-a368-782e49d1cd62"
      },
      "execution_count": null,
      "outputs": [
        {
          "output_type": "display_data",
          "data": {
            "text/plain": [
              "<Figure size 1000x800 with 2 Axes>"
            ],
            "image/png": "[encoded data removed]"
          },
          "metadata": {}
        }
      ]
    },
    {
      "cell_type": "code",
      "source": [
        "import pandas as pd\n",
        "\n",
        "X = df.drop('Exchange Rate', axis=1)\n",
        "\n",
        "print(X.head())"
      ],
      "metadata": {
        "colab": {
          "base_uri": "https://localhost:8080/"
        },
        "id": "i8uHD-Oyj2E6",
        "outputId": "483aec96-0988-4d7f-bc09-ec7ba22da6c2"
      },
      "execution_count": null,
      "outputs": [
        {
          "output_type": "stream",
          "name": "stdout",
          "text": [
            "      R ROI  Inflation  Gov Effectiveness  BOP(Trade)  Political stability\n",
            "0 -0.216762   0.548502          -0.260946   -2.037003            -0.827792\n",
            "1 -0.730204   0.174741          -0.260946   -1.999799            -0.827792\n",
            "2 -1.761484   2.274989          -0.975743   -1.739374            -1.241703\n",
            "3  0.328834  -0.543969          -0.975743   -1.255726            -1.241703\n",
            "4 -0.190212  -1.110782          -1.377844   -0.681727            -1.250300\n"
          ]
        }
      ]
    },
    {
      "cell_type": "markdown",
      "source": [
        "MODEL 1"
      ],
      "metadata": {
        "id": "PXX2tbpmqdLV"
      }
    },
    {
      "cell_type": "code",
      "source": [
        "from statsmodels.stats.outliers_influence import variance_inflation_factor\n",
        "\n",
        "vif = pd.DataFrame()\n",
        "vif[\"Variable\"] = X.columns\n",
        "vif[\"VIF\"] = [variance_inflation_factor(X.values, i) for i in range(X.shape[1])]\n",
        "print(vif)"
      ],
      "metadata": {
        "colab": {
          "base_uri": "https://localhost:8080/"
        },
        "id": "1aPK51iskDgD",
        "outputId": "612fedf7-4a51-4ef6-acc4-f1b90f5bc124"
      },
      "execution_count": null,
      "outputs": [
        {
          "output_type": "stream",
          "name": "stdout",
          "text": [
            "              Variable       VIF\n",
            "0                R ROI  1.347913\n",
            "1            Inflation  1.948349\n",
            "2    Gov Effectiveness  2.185222\n",
            "3           BOP(Trade)  2.741432\n",
            "4  Political stability  3.352661\n"
          ]
        }
      ]
    },
    {
      "cell_type": "markdown",
      "source": [
        "No problematic level of collinearity"
      ],
      "metadata": {
        "id": "Oc1IDlKukeHw"
      }
    },
    {
      "cell_type": "code",
      "source": [
        "import statsmodels.api as sm\n",
        "\n",
        "y = df['Exchange Rate']\n",
        "X = df.drop('Exchange Rate', axis=1)\n",
        "# Add a constant to the exogenous variables\n",
        "X = sm.add_constant(X)\n",
        "model = sm.OLS(y, X).fit()\n",
        "print(model.summary())\n"
      ],
      "metadata": {
        "colab": {
          "base_uri": "https://localhost:8080/"
        },
        "id": "7wtwp5Rymn-m",
        "outputId": "5dc00ca0-9306-4d09-b871-59dac2f97800"
      },
      "execution_count": null,
      "outputs": [
        {
          "output_type": "stream",
          "name": "stdout",
          "text": [
            "                            OLS Regression Results                            \n",
            "==============================================================================\n",
            "Dep. Variable:          Exchange Rate   R-squared:                       0.750\n",
            "Model:                            OLS   Adj. R-squared:                  0.688\n",
            "Method:                 Least Squares   F-statistic:                     12.01\n",
            "Date:                Sat, 06 Jul 2024   Prob (F-statistic):           1.83e-05\n",
            "Time:                        17:32:09   Log-Likelihood:                -82.596\n",
            "No. Observations:                  26   AIC:                             177.2\n",
            "Df Residuals:                      20   BIC:                             184.7\n",
            "Df Model:                           5                                         \n",
            "Covariance Type:            nonrobust                                         \n",
            "=======================================================================================\n",
            "                          coef    std err          t      P>|t|      [0.025      0.975]\n",
            "---------------------------------------------------------------------------------------\n",
            "const                  52.3124      1.297     40.336      0.000      49.607      55.018\n",
            "R ROI                   4.9260      1.506      3.272      0.004       1.785       8.067\n",
            "Inflation               1.5853      1.810      0.876      0.392      -2.191       5.361\n",
            "Gov Effectiveness       6.3698      1.917      3.323      0.003       2.371      10.369\n",
            "BOP(Trade)              3.3109      2.147      1.542      0.139      -1.168       7.790\n",
            "Political stability     0.4924      2.375      0.207      0.838      -4.461       5.446\n",
            "==============================================================================\n",
            "Omnibus:                        3.095   Durbin-Watson:                   1.299\n",
            "Prob(Omnibus):                  0.213   Jarque-Bera (JB):                1.995\n",
            "Skew:                          -0.467   Prob(JB):                        0.369\n",
            "Kurtosis:                       2.016   Cond. No.                         3.55\n",
            "==============================================================================\n",
            "\n",
            "Notes:\n",
            "[1] Standard Errors assume that the covariance matrix of the errors is correctly specified.\n"
          ]
        }
      ]
    },
    {
      "cell_type": "code",
      "source": [
        "\n",
        "\n",
        "from statsmodels.stats.diagnostic import het_white\n",
        "\n",
        "# Perform White's test\n",
        "white_test = het_white(model.resid,  model.model.exog)\n",
        "\n",
        "# Extract results\n",
        "labels = ['Test Statistic', 'Test Statistic p-value', 'F-Statistic', 'F-Test p-value']\n",
        "print(dict(zip(labels, white_test)))"
      ],
      "metadata": {
        "colab": {
          "base_uri": "https://localhost:8080/"
        },
        "id": "Il5HXf7anWFF",
        "outputId": "b815aa16-cbaf-49bf-af92-c52eb5ef56ba"
      },
      "execution_count": null,
      "outputs": [
        {
          "output_type": "stream",
          "name": "stdout",
          "text": [
            "{'Test Statistic': 20.628098470767096, 'Test Statistic p-value': 0.41930538447969645, 'F-Statistic': 0.9599998417000365, 'F-Test p-value': 0.5792054919049106}\n"
          ]
        }
      ]
    },
    {
      "cell_type": "code",
      "source": [
        "# Print R-squared and adjusted R-squared\n",
        "print(\"R-squared:\", model.rsquared)\n",
        "print(\"Adjusted R-squared:\", model.rsquared_adj)\n",
        "\n",
        "# Print F-statistic and its p-value\n",
        "print(\"F-statistic:\", model.fvalue)\n",
        "print(\"F-test p-value:\", model.f_pvalue)\n",
        "\n",
        "# Plot residuals\n",
        "import matplotlib.pyplot as plt\n",
        "plt.scatter(model.fittedvalues, model.resid)\n",
        "plt.xlabel(\"Fitted Values\")\n",
        "plt.ylabel(\"Residuals\")\n",
        "plt.title(\"Residual Plot\")\n",
        "plt.show()"
      ],
      "metadata": {
        "colab": {
          "base_uri": "https://localhost:8080/",
          "height": 541
        },
        "id": "SZKQB6t8pVCj",
        "outputId": "cb2dacc9-570b-4cc3-9878-87b7466e2658"
      },
      "execution_count": null,
      "outputs": [
        {
          "output_type": "stream",
          "name": "stdout",
          "text": [
            "R-squared: 0.7501070337213027\n",
            "Adjusted R-squared: 0.6876337921516285\n",
            "F-statistic: 12.006853092211218\n",
            "F-test p-value: 1.8306390113086963e-05\n"
          ]
        },
        {
          "output_type": "display_data",
          "data": {
            "text/plain": [
              "<Figure size 640x480 with 1 Axes>"
            ],
            "image/png": "[encoded data removed]"
          },
          "metadata": {}
        }
      ]
    },
    {
      "cell_type": "code",
      "source": [
        "from sklearn.model_selection import train_test_split\n",
        "\n",
        "# Assuming 'X' is your independent variable matrix and 'y' is your dependent variable\n",
        "X_train, X_test, y_train, y_test = train_test_split(X, y, test_size=0.2, random_state=42)\n",
        "# Adjust 'test_size' (e.g., 0.2 for 20% testing data) and 'random_state' as needed"
      ],
      "metadata": {
        "id": "zQTmoSTCpqUK"
      },
      "execution_count": null,
      "outputs": []
    },
    {
      "cell_type": "code",
      "source": [
        "import statsmodels.api as sm\n",
        "\n",
        "# Add a constant to the training data\n",
        "X_train = sm.add_constant(X_train)\n",
        "\n",
        "# Fit the model to the training data\n",
        "model = sm.OLS(y_train, X_train).fit()"
      ],
      "metadata": {
        "id": "N1CHMMQ8pvCQ"
      },
      "execution_count": null,
      "outputs": []
    },
    {
      "cell_type": "code",
      "source": [
        "# Add a constant to the testing data\n",
        "X_test = sm.add_constant(X_test)\n",
        "\n",
        "# Make predictions\n",
        "y_pred = model.predict(X_test)"
      ],
      "metadata": {
        "id": "4uu8JJUBpyw1"
      },
      "execution_count": null,
      "outputs": []
    },
    {
      "cell_type": "code",
      "source": [
        "from sklearn.metrics import mean_squared_error, mean_absolute_error\n",
        "\n",
        "mse = mean_squared_error(y_test, y_pred)\n",
        "rmse = mean_squared_error(y_test, y_pred, squared=False)  # Set squared=False for RMSE\n",
        "mae = mean_absolute_error(y_test, y_pred)\n",
        "\n",
        "print(\"Mean Squared Error (MSE):\", mse)\n",
        "print(\"Root Mean Squared Error (RMSE):\", rmse)\n",
        "print(\"Mean Absolute Error (MAE):\", mae)"
      ],
      "metadata": {
        "colab": {
          "base_uri": "https://localhost:8080/"
        },
        "id": "622dbn6Cp16X",
        "outputId": "f46945f4-4a80-46b2-c45c-dac7d8be7e40"
      },
      "execution_count": null,
      "outputs": [
        {
          "output_type": "stream",
          "name": "stdout",
          "text": [
            "Mean Squared Error (MSE): 105.80072555738262\n",
            "Root Mean Squared Error (RMSE): 10.285947965908763\n",
            "Mean Absolute Error (MAE): 9.218190306223821\n"
          ]
        }
      ]
    },
    {
      "cell_type": "markdown",
      "source": [
        "MODEL 2"
      ],
      "metadata": {
        "id": "qZD4XktGqfpl"
      }
    },
    {
      "cell_type": "code",
      "source": [
        "X1= df[['R ROI','Inflation','BOP(Trade)']]\n",
        "from statsmodels.stats.outliers_influence import variance_inflation_factor\n",
        "\n",
        "vif1 = pd.DataFrame()\n",
        "vif1[\"Variable\"] = X1.columns\n",
        "vif1[\"VIF\"] = [variance_inflation_factor(X1.values, i) for i in range(X1.shape[1])]\n",
        "print(vif1)\n"
      ],
      "metadata": {
        "colab": {
          "base_uri": "https://localhost:8080/"
        },
        "id": "_c3IIpGkqi1m",
        "outputId": "ac7f6b05-a3e5-4af1-e4eb-1cbaa03f1b88"
      },
      "execution_count": null,
      "outputs": [
        {
          "output_type": "stream",
          "name": "stdout",
          "text": [
            "     Variable       VIF\n",
            "0       R ROI  1.308040\n",
            "1   Inflation  1.571592\n",
            "2  BOP(Trade)  1.233644\n"
          ]
        }
      ]
    },
    {
      "cell_type": "code",
      "source": [
        "import statsmodels.api as sm\n",
        "\n",
        "y = df['Exchange Rate']\n",
        "# Add a constant to the exogenous variables\n",
        "X1 = sm.add_constant(X1)\n",
        "model = sm.OLS(y, X1).fit()\n",
        "print(model.summary())"
      ],
      "metadata": {
        "colab": {
          "base_uri": "https://localhost:8080/"
        },
        "id": "cbXUIWQ4rgdh",
        "outputId": "b74498b6-6ca4-44b6-9975-36e539c01d46"
      },
      "execution_count": null,
      "outputs": [
        {
          "output_type": "stream",
          "name": "stdout",
          "text": [
            "                            OLS Regression Results                            \n",
            "==============================================================================\n",
            "Dep. Variable:          Exchange Rate   R-squared:                       0.561\n",
            "Model:                            OLS   Adj. R-squared:                  0.501\n",
            "Method:                 Least Squares   F-statistic:                     9.357\n",
            "Date:                Sat, 06 Jul 2024   Prob (F-statistic):           0.000352\n",
            "Time:                        17:32:10   Log-Likelihood:                -89.933\n",
            "No. Observations:                  26   AIC:                             187.9\n",
            "Df Residuals:                      22   BIC:                             192.9\n",
            "Df Model:                           3                                         \n",
            "Covariance Type:            nonrobust                                         \n",
            "==============================================================================\n",
            "                 coef    std err          t      P>|t|      [0.025      0.975]\n",
            "------------------------------------------------------------------------------\n",
            "const         52.3124      1.640     31.905      0.000      48.912      55.713\n",
            "R ROI          5.6568      1.875      3.017      0.006       1.768       9.546\n",
            "Inflation      3.7522      2.056      1.825      0.082      -0.511       8.015\n",
            "BOP(Trade)     8.1859      1.821      4.495      0.000       4.409      11.963\n",
            "==============================================================================\n",
            "Omnibus:                        1.115   Durbin-Watson:                   0.355\n",
            "Prob(Omnibus):                  0.573   Jarque-Bera (JB):                0.910\n",
            "Skew:                          -0.188   Prob(JB):                        0.634\n",
            "Kurtosis:                       2.164   Cond. No.                         2.01\n",
            "==============================================================================\n",
            "\n",
            "Notes:\n",
            "[1] Standard Errors assume that the covariance matrix of the errors is correctly specified.\n"
          ]
        }
      ]
    },
    {
      "cell_type": "code",
      "source": [],
      "metadata": {
        "id": "GkXHm8vMrrm8"
      },
      "execution_count": null,
      "outputs": []
    },
    {
      "cell_type": "markdown",
      "source": [
        "\n",
        "heteroskedasticity exists\n",
        "\n",
        "> Add blockquote\n",
        "\n"
      ],
      "metadata": {
        "id": "iknqSD9Bsh_H"
      }
    },
    {
      "cell_type": "code",
      "source": [
        "\n",
        "\n",
        "# Correcting for heteroskedasticity using White's robust standard errors\n",
        "robust_model = sm.OLS(model.model.endog, model.model.exog).fit(cov_type='HC0')\n",
        "\n",
        "# Print the robust standard errors\n",
        "print(robust_model.bse)"
      ],
      "metadata": {
        "colab": {
          "base_uri": "https://localhost:8080/"
        },
        "id": "YAZVLqGwsqHd",
        "outputId": "363412f1-8a39-44ae-a896-d61ecdaf709e"
      },
      "execution_count": null,
      "outputs": [
        {
          "output_type": "stream",
          "name": "stdout",
          "text": [
            "[1.5082609  1.19157462 1.31245234 1.42739762]\n"
          ]
        }
      ]
    },
    {
      "cell_type": "code",
      "source": [
        "print(robust_model.summary())"
      ],
      "metadata": {
        "colab": {
          "base_uri": "https://localhost:8080/"
        },
        "id": "gt4inHO-s9zn",
        "outputId": "936b9445-07d1-4416-bba7-d5525a85be16"
      },
      "execution_count": null,
      "outputs": [
        {
          "output_type": "stream",
          "name": "stdout",
          "text": [
            "                            OLS Regression Results                            \n",
            "==============================================================================\n",
            "Dep. Variable:                      y   R-squared:                       0.561\n",
            "Model:                            OLS   Adj. R-squared:                  0.501\n",
            "Method:                 Least Squares   F-statistic:                     26.88\n",
            "Date:                Sat, 06 Jul 2024   Prob (F-statistic):           1.52e-07\n",
            "Time:                        17:32:10   Log-Likelihood:                -89.933\n",
            "No. Observations:                  26   AIC:                             187.9\n",
            "Df Residuals:                      22   BIC:                             192.9\n",
            "Df Model:                           3                                         \n",
            "Covariance Type:                  HC0                                         \n",
            "==============================================================================\n",
            "                 coef    std err          z      P>|z|      [0.025      0.975]\n",
            "------------------------------------------------------------------------------\n",
            "const         52.3124      1.508     34.684      0.000      49.356      55.269\n",
            "x1             5.6568      1.192      4.747      0.000       3.321       7.992\n",
            "x2             3.7522      1.312      2.859      0.004       1.180       6.325\n",
            "x3             8.1859      1.427      5.735      0.000       5.388      10.984\n",
            "==============================================================================\n",
            "Omnibus:                        1.115   Durbin-Watson:                   0.355\n",
            "Prob(Omnibus):                  0.573   Jarque-Bera (JB):                0.910\n",
            "Skew:                          -0.188   Prob(JB):                        0.634\n",
            "Kurtosis:                       2.164   Cond. No.                         2.01\n",
            "==============================================================================\n",
            "\n",
            "Notes:\n",
            "[1] Standard Errors are heteroscedasticity robust (HC0)\n"
          ]
        }
      ]
    },
    {
      "cell_type": "markdown",
      "source": [
        "X1- R RO1 X2- Inflation X3-BOP"
      ],
      "metadata": {
        "id": "upVDpAJ-tIPx"
      }
    },
    {
      "cell_type": "code",
      "source": [
        "# Assuming 'robust_model' is your fitted OLS model with robust standard errors\n",
        "print(\"R-squared:\", robust_model.rsquared)\n",
        "print(\"Adjusted R-squared:\", robust_model.rsquared_adj)\n",
        "\n",
        "# Print F-statistic and its p-value\n",
        "print(\"F-statistic:\", robust_model.fvalue)\n",
        "print(\"F-test p-value:\", robust_model.f_pvalue)\n",
        "\n",
        "# Plot residuals for the robust model\n",
        "import matplotlib.pyplot as plt\n",
        "plt.scatter(robust_model.fittedvalues, robust_model.resid)\n",
        "plt.xlabel(\"Fitted Values\")\n",
        "plt.ylabel(\"Residuals\")\n",
        "plt.title(\"Residual Plot (Robust Model)\")\n",
        "plt.show()"
      ],
      "metadata": {
        "colab": {
          "base_uri": "https://localhost:8080/",
          "height": 541
        },
        "id": "4ySaTwcfuRuP",
        "outputId": "44c2d12c-7be7-4030-e6cc-58ce6ea5a7a1"
      },
      "execution_count": null,
      "outputs": [
        {
          "output_type": "stream",
          "name": "stdout",
          "text": [
            "R-squared: 0.5606229007764284\n",
            "Adjusted R-squared: 0.5007078417913959\n",
            "F-statistic: 26.880170680831885\n",
            "F-test p-value: 1.5210448824963103e-07\n"
          ]
        },
        {
          "output_type": "display_data",
          "data": {
            "text/plain": [
              "<Figure size 640x480 with 1 Axes>"
            ],
            "image/png": "[encoded data removed]"
          },
          "metadata": {}
        }
      ]
    },
    {
      "cell_type": "code",
      "source": [
        "from sklearn.model_selection import train_test_split\n",
        "\n",
        "# Assuming 'X' is your independent variable matrix and 'y' is your dependent variable\n",
        "X_train, X_test, y_train, y_test = train_test_split(X1, y, test_size=0.2, random_state=42)\n",
        "# Adjust 'test_size' (e.g., 0.2 for 20% testing data) and 'random_state' as needed"
      ],
      "metadata": {
        "id": "OkXZYoATtj20"
      },
      "execution_count": null,
      "outputs": []
    },
    {
      "cell_type": "code",
      "source": [
        "import statsmodels.api as sm\n",
        "\n",
        "# Assuming 'X_train' and 'y_train' are your training data\n",
        "robust_model = sm.OLS(y_train, X_train).fit(cov_type='HC0')"
      ],
      "metadata": {
        "id": "wJ4T4eT0to7z"
      },
      "execution_count": null,
      "outputs": []
    },
    {
      "cell_type": "code",
      "source": [
        "X_test = sm.add_constant(X_test)"
      ],
      "metadata": {
        "id": "yiuEtuc4tsuc"
      },
      "execution_count": null,
      "outputs": []
    },
    {
      "cell_type": "code",
      "source": [
        "y_pred = robust_model.predict(X_test)"
      ],
      "metadata": {
        "id": "CsHsimtxtvWJ"
      },
      "execution_count": null,
      "outputs": []
    },
    {
      "cell_type": "code",
      "source": [
        "from sklearn.metrics import mean_squared_error, mean_absolute_error\n",
        "\n",
        "mse = mean_squared_error(y_test, y_pred)\n",
        "rmse = mean_squared_error(y_test, y_pred, squared=False)\n",
        "mae = mean_absolute_error(y_test, y_pred)\n",
        "print(\"MSE:\", mse)\n",
        "print(\"RMSE:\", rmse)\n",
        "print(\"MAE:\", mae)"
      ],
      "metadata": {
        "colab": {
          "base_uri": "https://localhost:8080/"
        },
        "id": "jc92hbARtycF",
        "outputId": "5ab5a8fb-e106-4f54-b0b6-2a9cf814de51"
      },
      "execution_count": null,
      "outputs": [
        {
          "output_type": "stream",
          "name": "stdout",
          "text": [
            "MSE: 137.88918675658795\n",
            "RMSE: 11.742622652397033\n",
            "MAE: 9.436910442208253\n"
          ]
        }
      ]
    },
    {
      "cell_type": "markdown",
      "source": [
        "MODEL 3"
      ],
      "metadata": {
        "id": "htbslhvCuWcz"
      }
    },
    {
      "cell_type": "code",
      "source": [
        "X2= df[['R ROI','Gov Effectiveness','BOP(Trade)']]\n",
        "from statsmodels.stats.outliers_influence import variance_inflation_factor\n",
        "\n",
        "vif2 = pd.DataFrame()\n",
        "vif2[\"Variable\"] = X2.columns\n",
        "vif2[\"VIF\"] = [variance_inflation_factor(X2.values, i) for i in range(X2.shape[1])]\n",
        "print(vif2)\n",
        "\n"
      ],
      "metadata": {
        "colab": {
          "base_uri": "https://localhost:8080/"
        },
        "id": "mjmX6TefuYaF",
        "outputId": "f35fbfd9-c653-4376-b04f-884830a40470"
      },
      "execution_count": null,
      "outputs": [
        {
          "output_type": "stream",
          "name": "stdout",
          "text": [
            "            Variable       VIF\n",
            "0              R ROI  1.010638\n",
            "1  Gov Effectiveness  1.496880\n",
            "2         BOP(Trade)  1.507948\n"
          ]
        }
      ]
    },
    {
      "cell_type": "code",
      "source": [
        "import statsmodels.api as sm\n",
        "\n",
        "y = df['Exchange Rate']\n",
        "# Add a constant to the exogenous variables\n",
        "X2 = sm.add_constant(X2)\n",
        "model = sm.OLS(y, X2).fit()\n",
        "print(model.summary())"
      ],
      "metadata": {
        "colab": {
          "base_uri": "https://localhost:8080/"
        },
        "id": "T2azPafmvCNv",
        "outputId": "1d1a2a28-12e2-48bd-b663-878794324d14"
      },
      "execution_count": null,
      "outputs": [
        {
          "output_type": "stream",
          "name": "stdout",
          "text": [
            "                            OLS Regression Results                            \n",
            "==============================================================================\n",
            "Dep. Variable:          Exchange Rate   R-squared:                       0.740\n",
            "Model:                            OLS   Adj. R-squared:                  0.705\n",
            "Method:                 Least Squares   F-statistic:                     20.92\n",
            "Date:                Sat, 06 Jul 2024   Prob (F-statistic):           1.21e-06\n",
            "Time:                        17:32:11   Log-Likelihood:                -83.087\n",
            "No. Observations:                  26   AIC:                             174.2\n",
            "Df Residuals:                      22   BIC:                             179.2\n",
            "Df Model:                           3                                         \n",
            "Covariance Type:            nonrobust                                         \n",
            "=====================================================================================\n",
            "                        coef    std err          t      P>|t|      [0.025      0.975]\n",
            "-------------------------------------------------------------------------------------\n",
            "const                52.3124      1.260     41.514      0.000      49.699      54.926\n",
            "R ROI                 4.3432      1.267      3.428      0.002       1.716       6.970\n",
            "Gov Effectiveness     7.0464      1.542      4.570      0.000       3.849      10.244\n",
            "BOP(Trade)            2.6875      1.547      1.737      0.096      -0.522       5.897\n",
            "==============================================================================\n",
            "Omnibus:                        2.161   Durbin-Watson:                   1.387\n",
            "Prob(Omnibus):                  0.339   Jarque-Bera (JB):                1.601\n",
            "Skew:                          -0.420   Prob(JB):                        0.449\n",
            "Kurtosis:                       2.121   Cond. No.                         1.94\n",
            "==============================================================================\n",
            "\n",
            "Notes:\n",
            "[1] Standard Errors assume that the covariance matrix of the errors is correctly specified.\n"
          ]
        }
      ]
    },
    {
      "cell_type": "code",
      "source": [
        "from statsmodels.stats.diagnostic import het_white\n",
        "\n",
        "# Perform White's test\n",
        "white_test = het_white(model.resid,  model.model.exog)\n",
        "\n",
        "# Extract results\n",
        "labels = ['Test Statistic', 'Test Statistic p-value', 'F-Statistic', 'F-Test p-value']\n",
        "print(dict(zip(labels, white_test)))"
      ],
      "metadata": {
        "colab": {
          "base_uri": "https://localhost:8080/"
        },
        "id": "GfTLTXGlvQJe",
        "outputId": "74727bef-786f-4dcb-f120-76bfc2923b4c"
      },
      "execution_count": null,
      "outputs": [
        {
          "output_type": "stream",
          "name": "stdout",
          "text": [
            "{'Test Statistic': 10.696705993080997, 'Test Statistic p-value': 0.29707236037906676, 'F-Statistic': 1.2426322203130902, 'F-Test p-value': 0.3372241224664229}\n"
          ]
        }
      ]
    },
    {
      "cell_type": "code",
      "source": [
        "print(\"R-squared:\", model.rsquared)\n",
        "print(\"Adjusted R-squared:\", model.rsquared_adj)\n",
        "\n",
        "print(\"F-statistic:\", model.fvalue)\n",
        "print(\"F-test p-value:\", model.f_pvalue)\n",
        "\n",
        "import matplotlib.pyplot as plt\n",
        "plt.scatter(model.fittedvalues, model.resid)\n",
        "plt.xlabel(\"Fitted Values\")\n",
        "plt.ylabel(\"Residuals\")\n",
        "plt.title(\"Residual Plot (Robust Model)\")\n",
        "plt.show()"
      ],
      "metadata": {
        "colab": {
          "base_uri": "https://localhost:8080/",
          "height": 541
        },
        "id": "P8yasnPYvbJr",
        "outputId": "6c23e84c-b35a-4103-e676-c86c760ad005"
      },
      "execution_count": null,
      "outputs": [
        {
          "output_type": "stream",
          "name": "stdout",
          "text": [
            "R-squared: 0.7404858255518829\n",
            "Adjusted R-squared: 0.7050975290362306\n",
            "F-statistic: 20.924596503942038\n",
            "F-test p-value: 1.2141382051291869e-06\n"
          ]
        },
        {
          "output_type": "display_data",
          "data": {
            "text/plain": [
              "<Figure size 640x480 with 1 Axes>"
            ],
            "image/png": "[encoded data removed]"
          },
          "metadata": {}
        }
      ]
    },
    {
      "cell_type": "code",
      "source": [
        "from sklearn.model_selection import train_test_split\n",
        "\n",
        "# Assuming 'X' is your independent variable matrix and 'y' is your dependent variable\n",
        "X_train, X_test, y_train, y_test = train_test_split(X2, y, test_size=0.2, random_state=42)\n",
        "# Adjust 'test_size' (e.g., 0.2 for 20% testing data) and 'random_state' as needed"
      ],
      "metadata": {
        "id": "wNVxBKWcvv7r"
      },
      "execution_count": null,
      "outputs": []
    },
    {
      "cell_type": "code",
      "source": [
        "import statsmodels.api as sm\n",
        "\n",
        "# Assuming 'X_train' and 'y_train' are your training data\n",
        "model = sm.OLS(y_train, X_train).fit()"
      ],
      "metadata": {
        "id": "bu97wPxDv6vX"
      },
      "execution_count": null,
      "outputs": []
    },
    {
      "cell_type": "code",
      "source": [
        "X_test = sm.add_constant(X_test)"
      ],
      "metadata": {
        "id": "Zmp63Fquv6vX"
      },
      "execution_count": null,
      "outputs": []
    },
    {
      "cell_type": "code",
      "source": [
        "y_pred = model.predict(X_test)"
      ],
      "metadata": {
        "id": "0aeWAcY0v6vX"
      },
      "execution_count": null,
      "outputs": []
    },
    {
      "cell_type": "code",
      "source": [
        "from sklearn.metrics import mean_squared_error, mean_absolute_error\n",
        "\n",
        "mse = mean_squared_error(y_test, y_pred)\n",
        "rmse = mean_squared_error(y_test, y_pred, squared=False)\n",
        "mae = mean_absolute_error(y_test, y_pred)\n",
        "print(\"MSE:\", mse)\n",
        "print(\"RMSE:\", rmse)\n",
        "print(\"MAE:\", mae)"
      ],
      "metadata": {
        "colab": {
          "base_uri": "https://localhost:8080/"
        },
        "outputId": "8c0ccbb7-cb32-481b-b5c6-09baa5d43d41",
        "id": "a9fxpf6iv6vY"
      },
      "execution_count": null,
      "outputs": [
        {
          "output_type": "stream",
          "name": "stdout",
          "text": [
            "MSE: 78.75482821491124\n",
            "RMSE: 8.874391709571492\n",
            "MAE: 7.531941332866379\n"
          ]
        }
      ]
    },
    {
      "cell_type": "markdown",
      "source": [
        "MODEL 4"
      ],
      "metadata": {
        "id": "qdtsOqLbwRVS"
      }
    },
    {
      "cell_type": "code",
      "source": [
        "X3=df[['R ROI','BOP(Trade)','Political stability']]\n",
        "from statsmodels.stats.outliers_influence import variance_inflation_factor\n",
        "\n",
        "vif3 = pd.DataFrame()\n",
        "vif3[\"Variable\"] = X3.columns\n",
        "vif3[\"VIF\"] = [variance_inflation_factor(X3.values, i) for i in range(X3.shape[1])]\n",
        "print(vif3)\n"
      ],
      "metadata": {
        "colab": {
          "base_uri": "https://localhost:8080/"
        },
        "id": "33nKjRdowTU_",
        "outputId": "abb0a6a4-7b2c-4601-9d85-d91ecb4dd6a9"
      },
      "execution_count": null,
      "outputs": [
        {
          "output_type": "stream",
          "name": "stdout",
          "text": [
            "              Variable       VIF\n",
            "0                R ROI  1.073430\n",
            "1           BOP(Trade)  2.446427\n",
            "2  Political stability  2.557898\n"
          ]
        }
      ]
    },
    {
      "cell_type": "code",
      "source": [
        "import statsmodels.api as sm\n",
        "\n",
        "y = df['Exchange Rate']\n",
        "# Add a constant to the exogenous variables\n",
        "X3 = sm.add_constant(X3)\n",
        "model = sm.OLS(y, X3).fit()\n",
        "print(model.summary())"
      ],
      "metadata": {
        "colab": {
          "base_uri": "https://localhost:8080/"
        },
        "id": "FeOX7CHKxFr5",
        "outputId": "6fbceae3-8ef2-4aa6-d87e-6bb9f82fa771"
      },
      "execution_count": null,
      "outputs": [
        {
          "output_type": "stream",
          "name": "stdout",
          "text": [
            "                            OLS Regression Results                            \n",
            "==============================================================================\n",
            "Dep. Variable:          Exchange Rate   R-squared:                       0.532\n",
            "Model:                            OLS   Adj. R-squared:                  0.468\n",
            "Method:                 Least Squares   F-statistic:                     8.335\n",
            "Date:                Sat, 06 Jul 2024   Prob (F-statistic):           0.000690\n",
            "Time:                        17:32:11   Log-Likelihood:                -90.754\n",
            "No. Observations:                  26   AIC:                             189.5\n",
            "Df Residuals:                      22   BIC:                             194.5\n",
            "Df Model:                           3                                         \n",
            "Covariance Type:            nonrobust                                         \n",
            "=======================================================================================\n",
            "                          coef    std err          t      P>|t|      [0.025      0.975]\n",
            "---------------------------------------------------------------------------------------\n",
            "const                  52.3124      1.692     30.912      0.000      48.803      55.822\n",
            "R ROI                   3.4354      1.753      1.959      0.063      -0.201       7.072\n",
            "BOP(Trade)              4.0533      2.647      1.531      0.140      -1.436       9.543\n",
            "Political stability     3.6116      2.707      1.334      0.196      -2.001       9.225\n",
            "==============================================================================\n",
            "Omnibus:                        2.521   Durbin-Watson:                   0.454\n",
            "Prob(Omnibus):                  0.284   Jarque-Bera (JB):                2.186\n",
            "Skew:                          -0.630   Prob(JB):                        0.335\n",
            "Kurtosis:                       2.342   Cond. No.                         2.86\n",
            "==============================================================================\n",
            "\n",
            "Notes:\n",
            "[1] Standard Errors assume that the covariance matrix of the errors is correctly specified.\n"
          ]
        }
      ]
    },
    {
      "cell_type": "code",
      "source": [
        "from statsmodels.stats.diagnostic import het_white\n",
        "\n",
        "# Perform White's test\n",
        "white_test = het_white(model.resid,  model.model.exog)\n",
        "\n",
        "# Extract results\n",
        "labels = ['Test Statistic', 'Test Statistic p-value', 'F-Statistic', 'F-Test p-value']\n",
        "print(dict(zip(labels, white_test)))"
      ],
      "metadata": {
        "colab": {
          "base_uri": "https://localhost:8080/"
        },
        "id": "jQIAtb6VxTNo",
        "outputId": "bc312957-29e9-4bd7-877c-c7216101e71a"
      },
      "execution_count": null,
      "outputs": [
        {
          "output_type": "stream",
          "name": "stdout",
          "text": [
            "{'Test Statistic': 11.262388868680624, 'Test Statistic p-value': 0.25815146794750155, 'F-Statistic': 1.358566492020051, 'F-Test p-value': 0.2838743104537924}\n"
          ]
        }
      ]
    },
    {
      "cell_type": "code",
      "source": [
        "print(\"R-squared:\", model.rsquared)\n",
        "print(\"Adjusted R-squared:\", model.rsquared_adj)\n",
        "\n",
        "print(\"F-statistic:\", model.fvalue)\n",
        "print(\"F-test p-value:\", model.f_pvalue)\n",
        "\n",
        "import matplotlib.pyplot as plt\n",
        "plt.scatter(model.fittedvalues, model.resid)\n",
        "plt.xlabel(\"Fitted Values\")\n",
        "plt.ylabel(\"Residuals\")\n",
        "plt.title(\"Residual Plot (Robust Model)\")\n",
        "plt.show()"
      ],
      "metadata": {
        "colab": {
          "base_uri": "https://localhost:8080/",
          "height": 541
        },
        "id": "K0mpgOZNxYuA",
        "outputId": "afd70dc5-c486-455d-be9c-86c8b440f4a8"
      },
      "execution_count": null,
      "outputs": [
        {
          "output_type": "stream",
          "name": "stdout",
          "text": [
            "R-squared: 0.5319562280964316\n",
            "Adjusted R-squared: 0.46813207738230855\n",
            "F-statistic: 8.334716908010824\n",
            "F-test p-value: 0.0006898771120761297\n"
          ]
        },
        {
          "output_type": "display_data",
          "data": {
            "text/plain": [
              "<Figure size 640x480 with 1 Axes>"
            ],
            "image/png": "[encoded data removed]"
          },
          "metadata": {}
        }
      ]
    },
    {
      "cell_type": "code",
      "source": [
        "from sklearn.model_selection import train_test_split\n",
        "\n",
        "# Assuming 'X' is your independent variable matrix and 'y' is your dependent variable\n",
        "X_train, X_test, y_train, y_test = train_test_split(X3, y, test_size=0.2, random_state=42)\n",
        "# Adjust 'test_size' (e.g., 0.2 for 20% testing data) and 'random_state' as needed"
      ],
      "metadata": {
        "id": "0U1_PQywxjCj"
      },
      "execution_count": null,
      "outputs": []
    },
    {
      "cell_type": "code",
      "source": [
        "import statsmodels.api as sm\n",
        "\n",
        "# Assuming 'X_train' and 'y_train' are your training data\n",
        "model = sm.OLS(y_train, X_train).fit()"
      ],
      "metadata": {
        "id": "UdWj1Qo9xjCj"
      },
      "execution_count": null,
      "outputs": []
    },
    {
      "cell_type": "code",
      "source": [
        "X_test = sm.add_constant(X_test)"
      ],
      "metadata": {
        "id": "JOUVByDSxjCk"
      },
      "execution_count": null,
      "outputs": []
    },
    {
      "cell_type": "code",
      "source": [
        "y_pred = model.predict(X_test)"
      ],
      "metadata": {
        "id": "rdUJaz1QxjCk"
      },
      "execution_count": null,
      "outputs": []
    },
    {
      "cell_type": "code",
      "source": [
        "from sklearn.metrics import mean_squared_error, mean_absolute_error\n",
        "\n",
        "mse = mean_squared_error(y_test, y_pred)\n",
        "rmse = mean_squared_error(y_test, y_pred, squared=False)\n",
        "mae = mean_absolute_error(y_test, y_pred)\n",
        "print(\"MSE:\", mse)\n",
        "print(\"RMSE:\", rmse)\n",
        "print(\"MAE:\", mae)"
      ],
      "metadata": {
        "colab": {
          "base_uri": "https://localhost:8080/"
        },
        "outputId": "cc084ef5-a0d0-43d8-a407-5fbecc679d8d",
        "id": "UDXj5cRlxjCk"
      },
      "execution_count": null,
      "outputs": [
        {
          "output_type": "stream",
          "name": "stdout",
          "text": [
            "MSE: 207.148439141794\n",
            "RMSE: 14.392652262241105\n",
            "MAE: 12.461565827817203\n"
          ]
        }
      ]
    },
    {
      "cell_type": "markdown",
      "source": [
        "MODEL 5"
      ],
      "metadata": {
        "id": "oOZELFg_xvrR"
      }
    },
    {
      "cell_type": "code",
      "source": [
        "X2= df[['R ROI','Gov Effectiveness','Inflation']]\n",
        "from statsmodels.stats.outliers_influence import variance_inflation_factor\n",
        "\n",
        "vif2 = pd.DataFrame()\n",
        "vif2[\"Variable\"] = X2.columns\n",
        "vif2[\"VIF\"] = [variance_inflation_factor(X2.values, i) for i in range(X2.shape[1])]\n",
        "print(vif2)"
      ],
      "metadata": {
        "colab": {
          "base_uri": "https://localhost:8080/"
        },
        "id": "1SNLDRI8x5v9",
        "outputId": "b91ee49b-65ed-411e-80a3-4ee3f6065824"
      },
      "execution_count": null,
      "outputs": [
        {
          "output_type": "stream",
          "name": "stdout",
          "text": [
            "            Variable       VIF\n",
            "0              R ROI  1.283400\n",
            "1  Gov Effectiveness  1.000023\n",
            "2          Inflation  1.283392\n"
          ]
        }
      ]
    },
    {
      "cell_type": "code",
      "source": [
        "import statsmodels.api as sm\n",
        "\n",
        "y = df['Exchange Rate']\n",
        "# Add a constant to the exogenous variables\n",
        "X2 = sm.add_constant(X2)\n",
        "model = sm.OLS(y, X2).fit()\n",
        "print(model.summary())"
      ],
      "metadata": {
        "colab": {
          "base_uri": "https://localhost:8080/"
        },
        "id": "2BJv0a6YyU2M",
        "outputId": "8a406105-ba59-46c5-fe61-09b83f5022fd"
      },
      "execution_count": null,
      "outputs": [
        {
          "output_type": "stream",
          "name": "stdout",
          "text": [
            "                            OLS Regression Results                            \n",
            "==============================================================================\n",
            "Dep. Variable:          Exchange Rate   R-squared:                       0.705\n",
            "Model:                            OLS   Adj. R-squared:                  0.665\n",
            "Method:                 Least Squares   F-statistic:                     17.55\n",
            "Date:                Sat, 06 Jul 2024   Prob (F-statistic):           4.82e-06\n",
            "Time:                        17:32:12   Log-Likelihood:                -84.743\n",
            "No. Observations:                  26   AIC:                             177.5\n",
            "Df Residuals:                      22   BIC:                             182.5\n",
            "Df Model:                           3                                         \n",
            "Covariance Type:            nonrobust                                         \n",
            "=====================================================================================\n",
            "                        coef    std err          t      P>|t|      [0.025      0.975]\n",
            "-------------------------------------------------------------------------------------\n",
            "const                52.3124      1.343     38.953      0.000      49.527      55.098\n",
            "R ROI                 4.4559      1.521      2.929      0.008       1.301       7.611\n",
            "Gov Effectiveness     8.5899      1.343      6.396      0.000       5.805      11.375\n",
            "Inflation            -0.2405      1.521     -0.158      0.876      -3.396       2.915\n",
            "==============================================================================\n",
            "Omnibus:                        2.855   Durbin-Watson:                   1.541\n",
            "Prob(Omnibus):                  0.240   Jarque-Bera (JB):                2.058\n",
            "Skew:                          -0.517   Prob(JB):                        0.357\n",
            "Kurtosis:                       2.089   Cond. No.                         1.67\n",
            "==============================================================================\n",
            "\n",
            "Notes:\n",
            "[1] Standard Errors assume that the covariance matrix of the errors is correctly specified.\n"
          ]
        }
      ]
    },
    {
      "cell_type": "code",
      "source": [
        "from statsmodels.stats.diagnostic import het_white\n",
        "\n",
        "# Perform White's test\n",
        "white_test = het_white(model.resid,  model.model.exog)\n",
        "\n",
        "# Extract results\n",
        "labels = ['Test Statistic', 'Test Statistic p-value', 'F-Statistic', 'F-Test p-value']\n",
        "print(dict(zip(labels, white_test)))"
      ],
      "metadata": {
        "colab": {
          "base_uri": "https://localhost:8080/"
        },
        "id": "0qr2Bocaydhp",
        "outputId": "57f375ad-5f62-477a-eb08-e713bcf8e3f7"
      },
      "execution_count": null,
      "outputs": [
        {
          "output_type": "stream",
          "name": "stdout",
          "text": [
            "{'Test Statistic': 9.885236348742959, 'Test Statistic p-value': 0.3598557058596057, 'F-Statistic': 1.090537465469158, 'F-Test p-value': 0.42064430215279747}\n"
          ]
        }
      ]
    },
    {
      "cell_type": "code",
      "source": [
        "print(\"R-squared:\", model.rsquared)\n",
        "print(\"Adjusted R-squared:\", model.rsquared_adj)\n",
        "\n",
        "print(\"F-statistic:\", model.fvalue)\n",
        "print(\"F-test p-value:\", model.f_pvalue)\n",
        "\n",
        "import matplotlib.pyplot as plt\n",
        "plt.scatter(model.fittedvalues, model.resid)\n",
        "plt.xlabel(\"Fitted Values\")\n",
        "plt.ylabel(\"Residuals\")\n",
        "plt.title(\"Residual Plot (Robust Model)\")\n",
        "plt.show()"
      ],
      "metadata": {
        "colab": {
          "base_uri": "https://localhost:8080/",
          "height": 541
        },
        "id": "4_JNYM4Gyk6x",
        "outputId": "b6515f29-f148-4c72-be79-0d4fce2e58a5"
      },
      "execution_count": null,
      "outputs": [
        {
          "output_type": "stream",
          "name": "stdout",
          "text": [
            "R-squared: 0.7052386893325735\n",
            "Adjusted R-squared: 0.6650439651506517\n",
            "F-statistic: 17.545553643822885\n",
            "F-test p-value: 4.822253585622602e-06\n"
          ]
        },
        {
          "output_type": "display_data",
          "data": {
            "text/plain": [
              "<Figure size 640x480 with 1 Axes>"
            ],
            "image/png": "[encoded data removed]"
          },
          "metadata": {}
        }
      ]
    },
    {
      "cell_type": "code",
      "source": [
        "from sklearn.model_selection import train_test_split\n",
        "\n",
        "# Assuming 'X' is your independent variable matrix and 'y' is your dependent variable\n",
        "X_train, X_test, y_train, y_test = train_test_split(X2, y, test_size=0.2, random_state=42)\n",
        "# Adjust 'test_size' (e.g., 0.2 for 20% testing data) and 'random_state' as needed"
      ],
      "metadata": {
        "id": "gvGS4rFQywBc"
      },
      "execution_count": null,
      "outputs": []
    },
    {
      "cell_type": "code",
      "source": [
        "import statsmodels.api as sm\n",
        "\n",
        "# Assuming 'X_train' and 'y_train' are your training data\n",
        "model = sm.OLS(y_train, X_train).fit()"
      ],
      "metadata": {
        "id": "Y4qPHp-4ywBc"
      },
      "execution_count": null,
      "outputs": []
    },
    {
      "cell_type": "code",
      "source": [
        "X_test = sm.add_constant(X_test)"
      ],
      "metadata": {
        "id": "TMAqS2_8ywBc"
      },
      "execution_count": null,
      "outputs": []
    },
    {
      "cell_type": "code",
      "source": [
        "y_pred = model.predict(X_test)"
      ],
      "metadata": {
        "id": "Xkl0xs1VywBd"
      },
      "execution_count": null,
      "outputs": []
    },
    {
      "cell_type": "code",
      "source": [
        "from sklearn.metrics import mean_squared_error, mean_absolute_error\n",
        "\n",
        "mse = mean_squared_error(y_test, y_pred)\n",
        "rmse = mean_squared_error(y_test, y_pred, squared=False)\n",
        "mae = mean_absolute_error(y_test, y_pred)\n",
        "print(\"MSE:\", mse)\n",
        "print(\"RMSE:\", rmse)\n",
        "print(\"MAE:\", mae)"
      ],
      "metadata": {
        "colab": {
          "base_uri": "https://localhost:8080/"
        },
        "outputId": "cc54dc61-2a2f-45e3-cb1f-5ce2d68a6625",
        "id": "BuK-DWnHywBd"
      },
      "execution_count": null,
      "outputs": [
        {
          "output_type": "stream",
          "name": "stdout",
          "text": [
            "MSE: 79.33647645687675\n",
            "RMSE: 8.907102584840748\n",
            "MAE: 7.689535490232543\n"
          ]
        }
      ]
    },
    {
      "cell_type": "markdown",
      "source": [
        "MODEL 6"
      ],
      "metadata": {
        "id": "wZjNYRQ3zERZ"
      }
    },
    {
      "cell_type": "code",
      "source": [
        "X2= df[['R ROI','Political stability','Inflation']]\n",
        "from statsmodels.stats.outliers_influence import variance_inflation_factor\n",
        "\n",
        "vif2 = pd.DataFrame()\n",
        "vif2[\"Variable\"] = X2.columns\n",
        "vif2[\"VIF\"] = [variance_inflation_factor(X2.values, i) for i in range(X2.shape[1])]\n",
        "print(vif2)"
      ],
      "metadata": {
        "colab": {
          "base_uri": "https://localhost:8080/"
        },
        "id": "Q-ORRDbAzGBN",
        "outputId": "74aba026-ab8b-4e71-90bb-f6f76ad14b0e"
      },
      "execution_count": null,
      "outputs": [
        {
          "output_type": "stream",
          "name": "stdout",
          "text": [
            "              Variable       VIF\n",
            "0                R ROI  1.283812\n",
            "1  Political stability  1.251160\n",
            "2            Inflation  1.524444\n"
          ]
        }
      ]
    },
    {
      "cell_type": "code",
      "source": [
        "import statsmodels.api as sm\n",
        "\n",
        "y = df['Exchange Rate']\n",
        "# Add a constant to the exogenous variables\n",
        "X2 = sm.add_constant(X2)\n",
        "model = sm.OLS(y, X2).fit()\n",
        "print(model.summary())"
      ],
      "metadata": {
        "colab": {
          "base_uri": "https://localhost:8080/"
        },
        "outputId": "b3cd8dfa-4268-4a22-c1e3-7c3cf6375633",
        "id": "z_JsvO__zYX9"
      },
      "execution_count": null,
      "outputs": [
        {
          "output_type": "stream",
          "name": "stdout",
          "text": [
            "                            OLS Regression Results                            \n",
            "==============================================================================\n",
            "Dep. Variable:          Exchange Rate   R-squared:                       0.535\n",
            "Model:                            OLS   Adj. R-squared:                  0.472\n",
            "Method:                 Least Squares   F-statistic:                     8.439\n",
            "Date:                Sat, 06 Jul 2024   Prob (F-statistic):           0.000643\n",
            "Time:                        17:32:12   Log-Likelihood:                -90.668\n",
            "No. Observations:                  26   AIC:                             189.3\n",
            "Df Residuals:                      22   BIC:                             194.4\n",
            "Df Model:                           3                                         \n",
            "Covariance Type:            nonrobust                                         \n",
            "=======================================================================================\n",
            "                          coef    std err          t      P>|t|      [0.025      0.975]\n",
            "---------------------------------------------------------------------------------------\n",
            "const                  52.3124      1.687     31.015      0.000      48.814      55.810\n",
            "R ROI                   4.3501      1.911      2.276      0.033       0.387       8.313\n",
            "Political stability     7.9783      1.887      4.229      0.000       4.066      11.891\n",
            "Inflation               3.2976      2.083      1.583      0.128      -1.021       7.616\n",
            "==============================================================================\n",
            "Omnibus:                        1.971   Durbin-Watson:                   0.706\n",
            "Prob(Omnibus):                  0.373   Jarque-Bera (JB):                1.715\n",
            "Skew:                          -0.524   Prob(JB):                        0.424\n",
            "Kurtosis:                       2.304   Cond. No.                         1.98\n",
            "==============================================================================\n",
            "\n",
            "Notes:\n",
            "[1] Standard Errors assume that the covariance matrix of the errors is correctly specified.\n"
          ]
        }
      ]
    },
    {
      "cell_type": "code",
      "source": [
        "from statsmodels.stats.diagnostic import het_white\n",
        "\n",
        "# Perform White's test\n",
        "white_test = het_white(model.resid,  model.model.exog)\n",
        "\n",
        "# Extract results\n",
        "labels = ['Test Statistic', 'Test Statistic p-value', 'F-Statistic', 'F-Test p-value']\n",
        "print(dict(zip(labels, white_test)))"
      ],
      "metadata": {
        "colab": {
          "base_uri": "https://localhost:8080/"
        },
        "outputId": "43c999d7-833d-48b0-d841-6d6d1b975839",
        "id": "ziSdosFwzYX9"
      },
      "execution_count": null,
      "outputs": [
        {
          "output_type": "stream",
          "name": "stdout",
          "text": [
            "{'Test Statistic': 12.857424893336566, 'Test Statistic p-value': 0.16916447245812352, 'F-Statistic': 1.7392059067048038, 'F-Test p-value': 0.16011325944648455}\n"
          ]
        }
      ]
    },
    {
      "cell_type": "code",
      "source": [
        "print(\"R-squared:\", model.rsquared)\n",
        "print(\"Adjusted R-squared:\", model.rsquared_adj)\n",
        "\n",
        "print(\"F-statistic:\", model.fvalue)\n",
        "print(\"F-test p-value:\", model.f_pvalue)\n",
        "\n",
        "import matplotlib.pyplot as plt\n",
        "plt.scatter(model.fittedvalues, model.resid)\n",
        "plt.xlabel(\"Fitted Values\")\n",
        "plt.ylabel(\"Residuals\")\n",
        "plt.title(\"Residual Plot (Robust Model)\")\n",
        "plt.show()"
      ],
      "metadata": {
        "colab": {
          "base_uri": "https://localhost:8080/",
          "height": 541
        },
        "outputId": "307c6145-3f0b-4f6b-9c4e-7600a400ad22",
        "id": "_V3Vv1Q9zkwq"
      },
      "execution_count": null,
      "outputs": [
        {
          "output_type": "stream",
          "name": "stdout",
          "text": [
            "R-squared: 0.5350569978208168\n",
            "Adjusted R-squared: 0.4716556793418373\n",
            "F-statistic: 8.439209320200698\n",
            "F-test p-value: 0.0006428362885493014\n"
          ]
        },
        {
          "output_type": "display_data",
          "data": {
            "text/plain": [
              "<Figure size 640x480 with 1 Axes>"
            ],
            "image/png": "[encoded data removed]"
          },
          "metadata": {}
        }
      ]
    },
    {
      "cell_type": "code",
      "source": [
        "from sklearn.model_selection import train_test_split\n",
        "\n",
        "# Assuming 'X' is your independent variable matrix and 'y' is your dependent variable\n",
        "X_train, X_test, y_train, y_test = train_test_split(X2, y, test_size=0.2, random_state=42)\n",
        "# Adjust 'test_size' (e.g., 0.2 for 20% testing data) and 'random_state' as needed"
      ],
      "metadata": {
        "id": "eGNSJGIHzkwq"
      },
      "execution_count": null,
      "outputs": []
    },
    {
      "cell_type": "code",
      "source": [
        "import statsmodels.api as sm\n",
        "\n",
        "# Assuming 'X_train' and 'y_train' are your training data\n",
        "model = sm.OLS(y_train, X_train).fit()"
      ],
      "metadata": {
        "id": "jN4SkqPxzkwr"
      },
      "execution_count": null,
      "outputs": []
    },
    {
      "cell_type": "code",
      "source": [
        "X_test = sm.add_constant(X_test)"
      ],
      "metadata": {
        "id": "tk9_jWH7zkwr"
      },
      "execution_count": null,
      "outputs": []
    },
    {
      "cell_type": "code",
      "source": [
        "y_pred = model.predict(X_test)"
      ],
      "metadata": {
        "id": "1Btq3TLgzkwr"
      },
      "execution_count": null,
      "outputs": []
    },
    {
      "cell_type": "code",
      "source": [
        "from sklearn.metrics import mean_squared_error, mean_absolute_error\n",
        "\n",
        "mse = mean_squared_error(y_test, y_pred)\n",
        "rmse = mean_squared_error(y_test, y_pred, squared=False)\n",
        "mae = mean_absolute_error(y_test, y_pred)\n",
        "print(\"MSE:\", mse)\n",
        "print(\"RMSE:\", rmse)\n",
        "print(\"MAE:\", mae)"
      ],
      "metadata": {
        "colab": {
          "base_uri": "https://localhost:8080/"
        },
        "outputId": "0ba18f22-39c9-48da-f0b0-dc16b27e1a80",
        "id": "RpPU4hcfzkwr"
      },
      "execution_count": null,
      "outputs": [
        {
          "output_type": "stream",
          "name": "stdout",
          "text": [
            "MSE: 210.11332730610698\n",
            "RMSE: 14.495286382341916\n",
            "MAE: 12.513758015941633\n"
          ]
        }
      ]
    },
    {
      "cell_type": "markdown",
      "source": [
        "MODEL 7"
      ],
      "metadata": {
        "id": "NBxCSO7czzfy"
      }
    },
    {
      "cell_type": "code",
      "source": [
        "X2= df[['BOP(Trade)','Gov Effectiveness','Inflation']]\n",
        "from statsmodels.stats.outliers_influence import variance_inflation_factor\n",
        "\n",
        "vif2 = pd.DataFrame()\n",
        "vif2[\"Variable\"] = X2.columns\n",
        "vif2[\"VIF\"] = [variance_inflation_factor(X2.values, i) for i in range(X2.shape[1])]\n",
        "print(vif2)"
      ],
      "metadata": {
        "colab": {
          "base_uri": "https://localhost:8080/"
        },
        "outputId": "88e88756-d386-4fb5-9064-a6cd7476e58c",
        "id": "BOukHwgQz6gD"
      },
      "execution_count": null,
      "outputs": [
        {
          "output_type": "stream",
          "name": "stdout",
          "text": [
            "            Variable       VIF\n",
            "0         BOP(Trade)  2.018097\n",
            "1  Gov Effectiveness  1.667329\n",
            "2          Inflation  1.352535\n"
          ]
        }
      ]
    },
    {
      "cell_type": "code",
      "source": [
        "import statsmodels.api as sm\n",
        "\n",
        "y = df['Exchange Rate']\n",
        "# Add a constant to the exogenous variables\n",
        "X2 = sm.add_constant(X2)\n",
        "model = sm.OLS(y, X2).fit()\n",
        "print(model.summary())"
      ],
      "metadata": {
        "colab": {
          "base_uri": "https://localhost:8080/"
        },
        "outputId": "b2fcc9fb-1e1b-4bc0-839a-60f38ca586e9",
        "id": "tCnPqkqSz6gD"
      },
      "execution_count": null,
      "outputs": [
        {
          "output_type": "stream",
          "name": "stdout",
          "text": [
            "                            OLS Regression Results                            \n",
            "==============================================================================\n",
            "Dep. Variable:          Exchange Rate   R-squared:                       0.612\n",
            "Model:                            OLS   Adj. R-squared:                  0.559\n",
            "Method:                 Least Squares   F-statistic:                     11.55\n",
            "Date:                Sat, 06 Jul 2024   Prob (F-statistic):           9.43e-05\n",
            "Time:                        17:32:13   Log-Likelihood:                -88.331\n",
            "No. Observations:                  26   AIC:                             184.7\n",
            "Df Residuals:                      22   BIC:                             189.7\n",
            "Df Model:                           3                                         \n",
            "Covariance Type:            nonrobust                                         \n",
            "=====================================================================================\n",
            "                        coef    std err          t      P>|t|      [0.025      0.975]\n",
            "-------------------------------------------------------------------------------------\n",
            "const                52.3124      1.542     33.932      0.000      49.115      55.510\n",
            "BOP(Trade)            2.4019      2.190      1.097      0.285      -2.140       6.944\n",
            "Gov Effectiveness     7.2263      1.991      3.630      0.001       3.098      11.355\n",
            "Inflation            -1.3305      1.793     -0.742      0.466      -5.049       2.388\n",
            "==============================================================================\n",
            "Omnibus:                        1.528   Durbin-Watson:                   0.693\n",
            "Prob(Omnibus):                  0.466   Jarque-Bera (JB):                1.203\n",
            "Skew:                          -0.317   Prob(JB):                        0.548\n",
            "Kurtosis:                       2.159   Cond. No.                         2.43\n",
            "==============================================================================\n",
            "\n",
            "Notes:\n",
            "[1] Standard Errors assume that the covariance matrix of the errors is correctly specified.\n"
          ]
        }
      ]
    },
    {
      "cell_type": "code",
      "source": [
        "from statsmodels.stats.diagnostic import het_white\n",
        "\n",
        "# Perform White's test\n",
        "white_test = het_white(model.resid,  model.model.exog)\n",
        "\n",
        "# Extract results\n",
        "labels = ['Test Statistic', 'Test Statistic p-value', 'F-Statistic', 'F-Test p-value']\n",
        "print(dict(zip(labels, white_test)))"
      ],
      "metadata": {
        "colab": {
          "base_uri": "https://localhost:8080/"
        },
        "outputId": "1296b788-fe87-4e49-ec6c-d244bcddbfea",
        "id": "6DkUAeKPz6gD"
      },
      "execution_count": null,
      "outputs": [
        {
          "output_type": "stream",
          "name": "stdout",
          "text": [
            "{'Test Statistic': 14.594614819210637, 'Test Statistic p-value': 0.10269015930288336, 'F-Statistic': 2.274888702971731, 'F-Test p-value': 0.07262395148140666}\n"
          ]
        }
      ]
    },
    {
      "cell_type": "code",
      "source": [
        "print(\"R-squared:\", model.rsquared)\n",
        "print(\"Adjusted R-squared:\", model.rsquared_adj)\n",
        "\n",
        "print(\"F-statistic:\", model.fvalue)\n",
        "print(\"F-test p-value:\", model.f_pvalue)\n",
        "\n",
        "import matplotlib.pyplot as plt\n",
        "plt.scatter(model.fittedvalues, model.resid)\n",
        "plt.xlabel(\"Fitted Values\")\n",
        "plt.ylabel(\"Residuals\")\n",
        "plt.title(\"Residual Plot (Robust Model)\")\n",
        "plt.show()"
      ],
      "metadata": {
        "colab": {
          "base_uri": "https://localhost:8080/",
          "height": 541
        },
        "outputId": "f4d0f63d-b41a-4911-c7a2-5a48f2261d87",
        "id": "9XSPVBgG0VTJ"
      },
      "execution_count": null,
      "outputs": [
        {
          "output_type": "stream",
          "name": "stdout",
          "text": [
            "R-squared: 0.611550225377717\n",
            "Adjusted R-squared: 0.5585798015655874\n",
            "F-statistic: 11.54512615467654\n",
            "F-test p-value: 9.429977509926725e-05\n"
          ]
        },
        {
          "output_type": "display_data",
          "data": {
            "text/plain": [
              "<Figure size 640x480 with 1 Axes>"
            ],
            "image/png": "[encoded data removed]"
          },
          "metadata": {}
        }
      ]
    },
    {
      "cell_type": "code",
      "source": [
        "from sklearn.model_selection import train_test_split\n",
        "\n",
        "# Assuming 'X' is your independent variable matrix and 'y' is your dependent variable\n",
        "X_train, X_test, y_train, y_test = train_test_split(X2, y, test_size=0.2, random_state=42)\n",
        "# Adjust 'test_size' (e.g., 0.2 for 20% testing data) and 'random_state' as needed"
      ],
      "metadata": {
        "id": "ChxbocHu0VTK"
      },
      "execution_count": null,
      "outputs": []
    },
    {
      "cell_type": "code",
      "source": [
        "import statsmodels.api as sm\n",
        "\n",
        "# Assuming 'X_train' and 'y_train' are your training data\n",
        "model = sm.OLS(y_train, X_train).fit()"
      ],
      "metadata": {
        "id": "0RjPmPIh0VTK"
      },
      "execution_count": null,
      "outputs": []
    },
    {
      "cell_type": "code",
      "source": [
        "X_test = sm.add_constant(X_test)"
      ],
      "metadata": {
        "id": "25cA18wN0VTK"
      },
      "execution_count": null,
      "outputs": []
    },
    {
      "cell_type": "code",
      "source": [
        "y_pred = model.predict(X_test)"
      ],
      "metadata": {
        "id": "9YWpL7Jq0VTL"
      },
      "execution_count": null,
      "outputs": []
    },
    {
      "cell_type": "code",
      "source": [
        "from sklearn.metrics import mean_squared_error, mean_absolute_error\n",
        "\n",
        "mse = mean_squared_error(y_test, y_pred)\n",
        "rmse = mean_squared_error(y_test, y_pred, squared=False)\n",
        "mae = mean_absolute_error(y_test, y_pred)\n",
        "print(\"MSE:\", mse)\n",
        "print(\"RMSE:\", rmse)\n",
        "print(\"MAE:\", mae)"
      ],
      "metadata": {
        "colab": {
          "base_uri": "https://localhost:8080/"
        },
        "outputId": "21df9d62-cbc1-49e3-b8ec-91b6b3f3ed9f",
        "id": "USP0H4730VTL"
      },
      "execution_count": null,
      "outputs": [
        {
          "output_type": "stream",
          "name": "stdout",
          "text": [
            "MSE: 101.35825692988347\n",
            "RMSE: 10.067683791711154\n",
            "MAE: 8.17939260281232\n"
          ]
        }
      ]
    },
    {
      "cell_type": "markdown",
      "source": [
        "MODEL 8"
      ],
      "metadata": {
        "id": "rdYL-qwI0eRM"
      }
    },
    {
      "cell_type": "code",
      "source": [
        "X2= df[['R ROI','BOP(Trade)','Gov Effectiveness','Inflation']]\n",
        "from statsmodels.stats.outliers_influence import variance_inflation_factor\n",
        "\n",
        "vif2 = pd.DataFrame()\n",
        "vif2[\"Variable\"] = X2.columns\n",
        "vif2[\"VIF\"] = [variance_inflation_factor(X2.values, i) for i in range(X2.shape[1])]\n",
        "print(vif2)"
      ],
      "metadata": {
        "colab": {
          "base_uri": "https://localhost:8080/"
        },
        "outputId": "09c9d4da-2a47-465a-aa94-befef328d05f",
        "id": "wvsBIV2Q0tgp"
      },
      "execution_count": null,
      "outputs": [
        {
          "output_type": "stream",
          "name": "stdout",
          "text": [
            "            Variable       VIF\n",
            "0              R ROI  1.326851\n",
            "1         BOP(Trade)  2.086422\n",
            "2  Gov Effectiveness  1.691307\n",
            "3          Inflation  1.775723\n"
          ]
        }
      ]
    },
    {
      "cell_type": "code",
      "source": [
        "import statsmodels.api as sm\n",
        "\n",
        "y = df['Exchange Rate']\n",
        "# Add a constant to the exogenous variables\n",
        "X2 = sm.add_constant(X2)\n",
        "model = sm.OLS(y, X2).fit()\n",
        "print(model.summary())"
      ],
      "metadata": {
        "colab": {
          "base_uri": "https://localhost:8080/"
        },
        "outputId": "aca86fcf-7069-4323-b496-d0c1b996bb7e",
        "id": "J8d373u10tgq"
      },
      "execution_count": null,
      "outputs": [
        {
          "output_type": "stream",
          "name": "stdout",
          "text": [
            "                            OLS Regression Results                            \n",
            "==============================================================================\n",
            "Dep. Variable:          Exchange Rate   R-squared:                       0.750\n",
            "Model:                            OLS   Adj. R-squared:                  0.702\n",
            "Method:                 Least Squares   F-statistic:                     15.71\n",
            "Date:                Sat, 06 Jul 2024   Prob (F-statistic):           4.31e-06\n",
            "Time:                        17:32:13   Log-Likelihood:                -82.624\n",
            "No. Observations:                  26   AIC:                             175.2\n",
            "Df Residuals:                      21   BIC:                             181.5\n",
            "Df Model:                           4                                         \n",
            "Covariance Type:            nonrobust                                         \n",
            "=====================================================================================\n",
            "                        coef    std err          t      P>|t|      [0.025      0.975]\n",
            "-------------------------------------------------------------------------------------\n",
            "const                52.3124      1.267     41.288      0.000      49.678      54.947\n",
            "R ROI                 4.9651      1.459      3.402      0.003       1.930       8.000\n",
            "BOP(Trade)            3.5286      1.830      1.928      0.067      -0.277       7.335\n",
            "Gov Effectiveness     6.5588      1.648      3.980      0.001       3.132       9.985\n",
            "Inflation             1.4736      1.688      0.873      0.393      -2.038       4.985\n",
            "==============================================================================\n",
            "Omnibus:                        2.782   Durbin-Watson:                   1.342\n",
            "Prob(Omnibus):                  0.249   Jarque-Bera (JB):                1.918\n",
            "Skew:                          -0.472   Prob(JB):                        0.383\n",
            "Kurtosis:                       2.062   Cond. No.                         2.68\n",
            "==============================================================================\n",
            "\n",
            "Notes:\n",
            "[1] Standard Errors assume that the covariance matrix of the errors is correctly specified.\n"
          ]
        }
      ]
    },
    {
      "cell_type": "code",
      "source": [
        "from statsmodels.stats.diagnostic import het_white\n",
        "\n",
        "# Perform White's test\n",
        "white_test = het_white(model.resid,  model.model.exog)\n",
        "\n",
        "# Extract results\n",
        "labels = ['Test Statistic', 'Test Statistic p-value', 'F-Statistic', 'F-Test p-value']\n",
        "print(dict(zip(labels, white_test)))"
      ],
      "metadata": {
        "colab": {
          "base_uri": "https://localhost:8080/"
        },
        "outputId": "8952a240-be9c-4629-bb51-edd81d5a3cfa",
        "id": "Crq3ID6b0tgq"
      },
      "execution_count": null,
      "outputs": [
        {
          "output_type": "stream",
          "name": "stdout",
          "text": [
            "{'Test Statistic': 16.631800950302296, 'Test Statistic p-value': 0.2763305413512985, 'F-Statistic': 1.3949152376550564, 'F-Test p-value': 0.2930585910731092}\n"
          ]
        }
      ]
    },
    {
      "cell_type": "code",
      "source": [
        "print(\"R-squared:\", model.rsquared)\n",
        "print(\"Adjusted R-squared:\", model.rsquared_adj)\n",
        "\n",
        "print(\"F-statistic:\", model.fvalue)\n",
        "print(\"F-test p-value:\", model.f_pvalue)\n",
        "\n",
        "import matplotlib.pyplot as plt\n",
        "plt.scatter(model.fittedvalues, model.resid)\n",
        "plt.xlabel(\"Fitted Values\")\n",
        "plt.ylabel(\"Residuals\")\n",
        "plt.title(\"Residual Plot (Robust Model)\")\n",
        "plt.show()"
      ],
      "metadata": {
        "colab": {
          "base_uri": "https://localhost:8080/",
          "height": 541
        },
        "outputId": "3e274779-86d3-426c-f6f6-528fc7036f2b",
        "id": "RDIkx9_m0_IA"
      },
      "execution_count": null,
      "outputs": [
        {
          "output_type": "stream",
          "name": "stdout",
          "text": [
            "R-squared: 0.7495697241120446\n",
            "Adjusted R-squared: 0.7018687191810055\n",
            "F-statistic: 15.713918924678632\n",
            "F-test p-value: 4.30684219726193e-06\n"
          ]
        },
        {
          "output_type": "display_data",
          "data": {
            "text/plain": [
              "<Figure size 640x480 with 1 Axes>"
            ],
            "image/png": "[encoded data removed]"
          },
          "metadata": {}
        }
      ]
    },
    {
      "cell_type": "code",
      "source": [
        "from sklearn.model_selection import train_test_split\n",
        "\n",
        "# Assuming 'X' is your independent variable matrix and 'y' is your dependent variable\n",
        "X_train, X_test, y_train, y_test = train_test_split(X2, y, test_size=0.2, random_state=42)\n",
        "# Adjust 'test_size' (e.g., 0.2 for 20% testing data) and 'random_state' as needed"
      ],
      "metadata": {
        "id": "WWFeuwgY0_IB"
      },
      "execution_count": null,
      "outputs": []
    },
    {
      "cell_type": "code",
      "source": [
        "import statsmodels.api as sm\n",
        "\n",
        "# Assuming 'X_train' and 'y_train' are your training data\n",
        "model = sm.OLS(y_train, X_train).fit()"
      ],
      "metadata": {
        "id": "ZbZQ8cAD0_IB"
      },
      "execution_count": null,
      "outputs": []
    },
    {
      "cell_type": "code",
      "source": [
        "X_test = sm.add_constant(X_test)"
      ],
      "metadata": {
        "id": "Eqfuxgzp0_IB"
      },
      "execution_count": null,
      "outputs": []
    },
    {
      "cell_type": "code",
      "source": [
        "y_pred = model.predict(X_test)"
      ],
      "metadata": {
        "id": "mevb1qSg0_IB"
      },
      "execution_count": null,
      "outputs": []
    },
    {
      "cell_type": "code",
      "source": [
        "from sklearn.metrics import mean_squared_error, mean_absolute_error\n",
        "\n",
        "mse = mean_squared_error(y_test, y_pred)\n",
        "rmse = mean_squared_error(y_test, y_pred, squared=False)\n",
        "mae = mean_absolute_error(y_test, y_pred)\n",
        "print(\"MSE:\", mse)\n",
        "print(\"RMSE:\", rmse)\n",
        "print(\"MAE:\", mae)"
      ],
      "metadata": {
        "colab": {
          "base_uri": "https://localhost:8080/"
        },
        "outputId": "58444054-bd72-4bfb-d8b0-9043343e4115",
        "id": "kcQqRVG30_IC"
      },
      "execution_count": null,
      "outputs": [
        {
          "output_type": "stream",
          "name": "stdout",
          "text": [
            "MSE: 76.39128151541077\n",
            "RMSE: 8.740210610472197\n",
            "MAE: 7.368191522971606\n"
          ]
        }
      ]
    },
    {
      "cell_type": "markdown",
      "source": [
        "MODEL 9"
      ],
      "metadata": {
        "id": "35FSKs5Q1TB6"
      }
    },
    {
      "cell_type": "code",
      "source": [
        "X2= df[['BOP(Trade)','Political stability','Inflation']]\n",
        "from statsmodels.stats.outliers_influence import variance_inflation_factor\n",
        "\n",
        "vif2 = pd.DataFrame()\n",
        "vif2[\"Variable\"] = X2.columns\n",
        "vif2[\"VIF\"] = [variance_inflation_factor(X2.values, i) for i in range(X2.shape[1])]\n",
        "print(vif2)"
      ],
      "metadata": {
        "colab": {
          "base_uri": "https://localhost:8080/"
        },
        "outputId": "7d7aec85-b210-4a02-d357-eb3fcc7c6234",
        "id": "NUs029z11Vpz"
      },
      "execution_count": null,
      "outputs": [
        {
          "output_type": "stream",
          "name": "stdout",
          "text": [
            "              Variable       VIF\n",
            "0           BOP(Trade)  2.441709\n",
            "1  Political stability  2.523111\n",
            "2            Inflation  1.272171\n"
          ]
        }
      ]
    },
    {
      "cell_type": "code",
      "source": [
        "import statsmodels.api as sm\n",
        "\n",
        "y = df['Exchange Rate']\n",
        "# Add a constant to the exogenous variables\n",
        "X2 = sm.add_constant(X2)\n",
        "model = sm.OLS(y, X2).fit()\n",
        "print(model.summary())"
      ],
      "metadata": {
        "colab": {
          "base_uri": "https://localhost:8080/"
        },
        "outputId": "7517b322-0926-4a2f-b348-b0d368e14e73",
        "id": "_yVt3D8U1Vpz"
      },
      "execution_count": null,
      "outputs": [
        {
          "output_type": "stream",
          "name": "stdout",
          "text": [
            "                            OLS Regression Results                            \n",
            "==============================================================================\n",
            "Dep. Variable:          Exchange Rate   R-squared:                       0.466\n",
            "Model:                            OLS   Adj. R-squared:                  0.393\n",
            "Method:                 Least Squares   F-statistic:                     6.394\n",
            "Date:                Sat, 06 Jul 2024   Prob (F-statistic):            0.00279\n",
            "Time:                        17:32:14   Log-Likelihood:                -92.473\n",
            "No. Observations:                  26   AIC:                             192.9\n",
            "Df Residuals:                      22   BIC:                             198.0\n",
            "Df Model:                           3                                         \n",
            "Covariance Type:            nonrobust                                         \n",
            "=======================================================================================\n",
            "                          coef    std err          t      P>|t|      [0.025      0.975]\n",
            "---------------------------------------------------------------------------------------\n",
            "const                  52.3124      1.808     28.934      0.000      48.563      56.062\n",
            "BOP(Trade)              3.6363      2.825      1.287      0.211      -2.223       9.495\n",
            "Political stability     5.4327      2.872      1.892      0.072      -0.523      11.388\n",
            "Inflation               1.6297      2.039      0.799      0.433      -2.599       5.859\n",
            "==============================================================================\n",
            "Omnibus:                        2.054   Durbin-Watson:                   0.337\n",
            "Prob(Omnibus):                  0.358   Jarque-Bera (JB):                1.634\n",
            "Skew:                          -0.456   Prob(JB):                        0.442\n",
            "Kurtosis:                       2.178   Cond. No.                         2.99\n",
            "==============================================================================\n",
            "\n",
            "Notes:\n",
            "[1] Standard Errors assume that the covariance matrix of the errors is correctly specified.\n"
          ]
        }
      ]
    },
    {
      "cell_type": "code",
      "source": [
        "from statsmodels.stats.diagnostic import het_white\n",
        "\n",
        "# Perform White's test\n",
        "white_test = het_white(model.resid,  model.model.exog)\n",
        "\n",
        "# Extract results\n",
        "labels = ['Test Statistic', 'Test Statistic p-value', 'F-Statistic', 'F-Test p-value']\n",
        "print(dict(zip(labels, white_test)))"
      ],
      "metadata": {
        "colab": {
          "base_uri": "https://localhost:8080/"
        },
        "outputId": "ea1ce212-ad76-4000-e33a-ab29e9e35003",
        "id": "EPr39Xda1Vp0"
      },
      "execution_count": null,
      "outputs": [
        {
          "output_type": "stream",
          "name": "stdout",
          "text": [
            "{'Test Statistic': 11.022928163420916, 'Test Statistic p-value': 0.27414060202391527, 'F-Statistic': 1.3084210951776085, 'F-Test p-value': 0.3059138114311492}\n"
          ]
        }
      ]
    },
    {
      "cell_type": "code",
      "source": [
        "print(\"R-squared:\", model.rsquared)\n",
        "print(\"Adjusted R-squared:\", model.rsquared_adj)\n",
        "\n",
        "print(\"F-statistic:\", model.fvalue)\n",
        "print(\"F-test p-value:\", model.f_pvalue)\n",
        "\n",
        "import matplotlib.pyplot as plt\n",
        "plt.scatter(model.fittedvalues, model.resid)\n",
        "plt.xlabel(\"Fitted Values\")\n",
        "plt.ylabel(\"Residuals\")\n",
        "plt.title(\"Residual Plot (Robust Model)\")\n",
        "plt.show()"
      ],
      "metadata": {
        "colab": {
          "base_uri": "https://localhost:8080/",
          "height": 541
        },
        "outputId": "f0832d08-e99e-467e-f778-492410b4d13b",
        "id": "_063ozid1h3k"
      },
      "execution_count": null,
      "outputs": [
        {
          "output_type": "stream",
          "name": "stdout",
          "text": [
            "R-squared: 0.46578802488622595\n",
            "Adjusted R-squared: 0.39294093737071123\n",
            "F-statistic: 6.394051440794039\n",
            "F-test p-value: 0.00279226509688066\n"
          ]
        },
        {
          "output_type": "display_data",
          "data": {
            "text/plain": [
              "<Figure size 640x480 with 1 Axes>"
            ],
            "image/png": "[encoded data removed]"
          },
          "metadata": {}
        }
      ]
    },
    {
      "cell_type": "code",
      "source": [
        "from sklearn.model_selection import train_test_split\n",
        "\n",
        "# Assuming 'X' is your independent variable matrix and 'y' is your dependent variable\n",
        "X_train, X_test, y_train, y_test = train_test_split(X2, y, test_size=0.2, random_state=42)\n",
        "# Adjust 'test_size' (e.g., 0.2 for 20% testing data) and 'random_state' as needed"
      ],
      "metadata": {
        "id": "_TWmxGJ81h3k"
      },
      "execution_count": null,
      "outputs": []
    },
    {
      "cell_type": "code",
      "source": [
        "import statsmodels.api as sm\n",
        "\n",
        "# Assuming 'X_train' and 'y_train' are your training data\n",
        "model = sm.OLS(y_train, X_train).fit()"
      ],
      "metadata": {
        "id": "ScT6D1DS1h3k"
      },
      "execution_count": null,
      "outputs": []
    },
    {
      "cell_type": "code",
      "source": [
        "X_test = sm.add_constant(X_test)"
      ],
      "metadata": {
        "id": "VjrN3UEP1h3k"
      },
      "execution_count": null,
      "outputs": []
    },
    {
      "cell_type": "code",
      "source": [
        "y_pred = model.predict(X_test)"
      ],
      "metadata": {
        "id": "CoQfaFg51h3k"
      },
      "execution_count": null,
      "outputs": []
    },
    {
      "cell_type": "code",
      "source": [
        "from sklearn.metrics import mean_squared_error, mean_absolute_error\n",
        "\n",
        "mse = mean_squared_error(y_test, y_pred)\n",
        "rmse = mean_squared_error(y_test, y_pred, squared=False)\n",
        "mae = mean_absolute_error(y_test, y_pred)\n",
        "print(\"MSE:\", mse)\n",
        "print(\"RMSE:\", rmse)\n",
        "print(\"MAE:\", mae)"
      ],
      "metadata": {
        "colab": {
          "base_uri": "https://localhost:8080/"
        },
        "outputId": "05b24af0-f97d-4f65-ae34-872b35ffa1a4",
        "id": "gCEBAish1h3k"
      },
      "execution_count": null,
      "outputs": [
        {
          "output_type": "stream",
          "name": "stdout",
          "text": [
            "MSE: 224.30988801539402\n",
            "RMSE: 14.976978601019434\n",
            "MAE: 12.637323554714584\n"
          ]
        }
      ]
    },
    {
      "cell_type": "markdown",
      "source": [
        "MODEL 10"
      ],
      "metadata": {
        "id": "UcyAYlu41s8y"
      }
    },
    {
      "cell_type": "code",
      "source": [
        "X2= df[['R ROI','BOP(Trade)','Political stability','Inflation']]\n",
        "from statsmodels.stats.outliers_influence import variance_inflation_factor\n",
        "\n",
        "vif2 = pd.DataFrame()\n",
        "vif2[\"Variable\"] = X2.columns\n",
        "vif2[\"VIF\"] = [variance_inflation_factor(X2.values, i) for i in range(X2.shape[1])]\n",
        "print(vif2)"
      ],
      "metadata": {
        "colab": {
          "base_uri": "https://localhost:8080/"
        },
        "outputId": "a3a1f0c6-975f-455d-d1af-57658f643f48",
        "id": "AumyM3WY10NE"
      },
      "execution_count": null,
      "outputs": [
        {
          "output_type": "stream",
          "name": "stdout",
          "text": [
            "              Variable       VIF\n",
            "0                R ROI  1.345244\n",
            "1           BOP(Trade)  2.558547\n",
            "2  Political stability  2.594875\n",
            "3            Inflation  1.594310\n"
          ]
        }
      ]
    },
    {
      "cell_type": "code",
      "source": [
        "import statsmodels.api as sm\n",
        "\n",
        "y = df['Exchange Rate']\n",
        "# Add a constant to the exogenous variables\n",
        "X2 = sm.add_constant(X2)\n",
        "model = sm.OLS(y, X2).fit()\n",
        "print(model.summary())"
      ],
      "metadata": {
        "colab": {
          "base_uri": "https://localhost:8080/"
        },
        "outputId": "ac0522b1-4a12-4de8-b64c-6599fd4123a4",
        "id": "KpuusKKD10NE"
      },
      "execution_count": null,
      "outputs": [
        {
          "output_type": "stream",
          "name": "stdout",
          "text": [
            "                            OLS Regression Results                            \n",
            "==============================================================================\n",
            "Dep. Variable:          Exchange Rate   R-squared:                       0.612\n",
            "Model:                            OLS   Adj. R-squared:                  0.538\n",
            "Method:                 Least Squares   F-statistic:                     8.287\n",
            "Date:                Sat, 06 Jul 2024   Prob (F-statistic):           0.000356\n",
            "Time:                        17:32:15   Log-Likelihood:                -88.310\n",
            "No. Observations:                  26   AIC:                             186.6\n",
            "Df Residuals:                      21   BIC:                             192.9\n",
            "Df Model:                           4                                         \n",
            "Covariance Type:            nonrobust                                         \n",
            "=======================================================================================\n",
            "                          coef    std err          t      P>|t|      [0.025      0.975]\n",
            "---------------------------------------------------------------------------------------\n",
            "const                  52.3124      1.577     33.178      0.000      49.033      55.591\n",
            "R ROI                   5.1487      1.829      2.815      0.010       1.346       8.952\n",
            "BOP(Trade)              5.1537      2.522      2.043      0.054      -0.091      10.399\n",
            "Political stability     4.2435      2.540      1.671      0.110      -1.038       9.525\n",
            "Inflation               4.1492      1.991      2.084      0.050       0.009       8.289\n",
            "==============================================================================\n",
            "Omnibus:                        1.942   Durbin-Watson:                   0.520\n",
            "Prob(Omnibus):                  0.379   Jarque-Bera (JB):                1.713\n",
            "Skew:                          -0.537   Prob(JB):                        0.425\n",
            "Kurtosis:                       2.345   Cond. No.                         3.19\n",
            "==============================================================================\n",
            "\n",
            "Notes:\n",
            "[1] Standard Errors assume that the covariance matrix of the errors is correctly specified.\n"
          ]
        }
      ]
    },
    {
      "cell_type": "code",
      "source": [
        "from statsmodels.stats.diagnostic import het_white\n",
        "\n",
        "# Perform White's test\n",
        "white_test = het_white(model.resid,  model.model.exog)\n",
        "\n",
        "# Extract results\n",
        "labels = ['Test Statistic', 'Test Statistic p-value', 'F-Statistic', 'F-Test p-value']\n",
        "print(dict(zip(labels, white_test)))"
      ],
      "metadata": {
        "colab": {
          "base_uri": "https://localhost:8080/"
        },
        "outputId": "043085e2-0003-4772-bb06-47df34221c4c",
        "id": "jrB7_mAb10NE"
      },
      "execution_count": null,
      "outputs": [
        {
          "output_type": "stream",
          "name": "stdout",
          "text": [
            "{'Test Statistic': 20.453213680604733, 'Test Statistic p-value': 0.11648785660672901, 'F-Statistic': 2.897241979815452, 'F-Test p-value': 0.0415766414924883}\n"
          ]
        }
      ]
    },
    {
      "cell_type": "markdown",
      "source": [
        "\n",
        "heteroskedasticity exists\n",
        "\n",
        "> Add blockquote\n",
        "\n"
      ],
      "metadata": {
        "id": "XORlmF3p2h79"
      }
    },
    {
      "cell_type": "code",
      "source": [
        "\n",
        "\n",
        "# Correcting for heteroskedasticity using White's robust standard errors\n",
        "robust_model = sm.OLS(model.model.endog, model.model.exog).fit(cov_type='HC0')\n",
        "\n",
        "# Print the robust standard errors\n",
        "print(robust_model.bse)"
      ],
      "metadata": {
        "colab": {
          "base_uri": "https://localhost:8080/"
        },
        "outputId": "7cc026f5-c6ab-4b31-fe88-0f432ecdde6d",
        "id": "gv5u0p5i2h7-"
      },
      "execution_count": null,
      "outputs": [
        {
          "output_type": "stream",
          "name": "stdout",
          "text": [
            "[1.41702062 1.05335065 1.83848261 2.31203623 1.4268293 ]\n"
          ]
        }
      ]
    },
    {
      "cell_type": "code",
      "source": [
        "print(robust_model.summary())"
      ],
      "metadata": {
        "colab": {
          "base_uri": "https://localhost:8080/"
        },
        "outputId": "83519661-2ab1-448a-fa78-d42a775b5d56",
        "id": "ZiO9atb22h7-"
      },
      "execution_count": null,
      "outputs": [
        {
          "output_type": "stream",
          "name": "stdout",
          "text": [
            "                            OLS Regression Results                            \n",
            "==============================================================================\n",
            "Dep. Variable:                      y   R-squared:                       0.612\n",
            "Model:                            OLS   Adj. R-squared:                  0.538\n",
            "Method:                 Least Squares   F-statistic:                     26.20\n",
            "Date:                Sat, 06 Jul 2024   Prob (F-statistic):           6.70e-08\n",
            "Time:                        17:32:15   Log-Likelihood:                -88.310\n",
            "No. Observations:                  26   AIC:                             186.6\n",
            "Df Residuals:                      21   BIC:                             192.9\n",
            "Df Model:                           4                                         \n",
            "Covariance Type:                  HC0                                         \n",
            "==============================================================================\n",
            "                 coef    std err          z      P>|z|      [0.025      0.975]\n",
            "------------------------------------------------------------------------------\n",
            "const         52.3124      1.417     36.917      0.000      49.535      55.090\n",
            "x1             5.1487      1.053      4.888      0.000       3.084       7.213\n",
            "x2             5.1537      1.838      2.803      0.005       1.550       8.757\n",
            "x3             4.2435      2.312      1.835      0.066      -0.288       8.775\n",
            "x4             4.1492      1.427      2.908      0.004       1.353       6.946\n",
            "==============================================================================\n",
            "Omnibus:                        1.942   Durbin-Watson:                   0.520\n",
            "Prob(Omnibus):                  0.379   Jarque-Bera (JB):                1.713\n",
            "Skew:                          -0.537   Prob(JB):                        0.425\n",
            "Kurtosis:                       2.345   Cond. No.                         3.19\n",
            "==============================================================================\n",
            "\n",
            "Notes:\n",
            "[1] Standard Errors are heteroscedasticity robust (HC0)\n"
          ]
        }
      ]
    },
    {
      "cell_type": "code",
      "source": [
        "# Assuming 'robust_model' is your fitted OLS model with robust standard errors\n",
        "print(\"R-squared:\", robust_model.rsquared)\n",
        "print(\"Adjusted R-squared:\", robust_model.rsquared_adj)\n",
        "\n",
        "# Print F-statistic and its p-value\n",
        "print(\"F-statistic:\", robust_model.fvalue)\n",
        "print(\"F-test p-value:\", robust_model.f_pvalue)\n",
        "\n",
        "# Plot residuals for the robust model\n",
        "import matplotlib.pyplot as plt\n",
        "plt.scatter(robust_model.fittedvalues, robust_model.resid)\n",
        "plt.xlabel(\"Fitted Values\")\n",
        "plt.ylabel(\"Residuals\")\n",
        "plt.title(\"Residual Plot (Robust Model)\")\n",
        "plt.show()"
      ],
      "metadata": {
        "colab": {
          "base_uri": "https://localhost:8080/",
          "height": 541
        },
        "outputId": "d48d520e-330f-4d5e-979d-561ebab80984",
        "id": "QUMwW2hC2h7-"
      },
      "execution_count": null,
      "outputs": [
        {
          "output_type": "stream",
          "name": "stdout",
          "text": [
            "R-squared: 0.6121740956248831\n",
            "Adjusted R-squared: 0.5383024947915276\n",
            "F-statistic: 26.197301203387312\n",
            "F-test p-value: 6.697630127494656e-08\n"
          ]
        },
        {
          "output_type": "display_data",
          "data": {
            "text/plain": [
              "<Figure size 640x480 with 1 Axes>"
            ],
            "image/png": "[encoded data removed]"
          },
          "metadata": {}
        }
      ]
    },
    {
      "cell_type": "code",
      "source": [
        "from sklearn.model_selection import train_test_split\n",
        "\n",
        "# Assuming 'X' is your independent variable matrix and 'y' is your dependent variable\n",
        "X_train, X_test, y_train, y_test = train_test_split(X1, y, test_size=0.2, random_state=42)\n",
        "# Adjust 'test_size' (e.g., 0.2 for 20% testing data) and 'random_state' as needed"
      ],
      "metadata": {
        "id": "jvPr1HRu2h7-"
      },
      "execution_count": null,
      "outputs": []
    },
    {
      "cell_type": "code",
      "source": [
        "import statsmodels.api as sm\n",
        "\n",
        "# Assuming 'X_train' and 'y_train' are your training data\n",
        "robust_model = sm.OLS(y_train, X_train).fit(cov_type='HC0')"
      ],
      "metadata": {
        "id": "JhHPaspm2h7-"
      },
      "execution_count": null,
      "outputs": []
    },
    {
      "cell_type": "code",
      "source": [
        "X_test = sm.add_constant(X_test)"
      ],
      "metadata": {
        "id": "jab-Kzhi2h7-"
      },
      "execution_count": null,
      "outputs": []
    },
    {
      "cell_type": "code",
      "source": [
        "y_pred = robust_model.predict(X_test)"
      ],
      "metadata": {
        "id": "CKOOXtGO2h7_"
      },
      "execution_count": null,
      "outputs": []
    },
    {
      "cell_type": "code",
      "source": [
        "from sklearn.metrics import mean_squared_error, mean_absolute_error\n",
        "\n",
        "mse = mean_squared_error(y_test, y_pred)\n",
        "rmse = mean_squared_error(y_test, y_pred, squared=False)\n",
        "mae = mean_absolute_error(y_test, y_pred)\n",
        "print(\"MSE:\", mse)\n",
        "print(\"RMSE:\", rmse)\n",
        "print(\"MAE:\", mae)"
      ],
      "metadata": {
        "colab": {
          "base_uri": "https://localhost:8080/"
        },
        "outputId": "87e2f2ab-f235-42f2-8d48-396cbf2ee677",
        "id": "Mv-IR1Q12h7_"
      },
      "execution_count": null,
      "outputs": [
        {
          "output_type": "stream",
          "name": "stdout",
          "text": [
            "MSE: 137.88918675658795\n",
            "RMSE: 11.742622652397033\n",
            "MAE: 9.436910442208253\n"
          ]
        }
      ]
    },
    {
      "cell_type": "markdown",
      "source": [
        "The 3 best models were:\n",
        "\n",
        "**MODEL 8**\n",
        "\n",
        "FX = 52.3124 + 4.9651*R ROI + 3.5286 *BOP(TRADE) + 6.5588 * Gov Effectiveness + 1.4736 * Inflation\n",
        "\n",
        "**MODEL 3**\n",
        "\n",
        "FX = 52.3124 + 4.3432 * R ROI + 2.6875 * BOP(TRADE) + 6.5588 * Gov Effectiveness\n",
        "\n",
        "**MODEL 5**\n",
        "\n",
        "FX = 52.3124 + 4.4559*R ROI + 8.5899 * Gov Effectiveness - 0.2405 * Inflation"
      ],
      "metadata": {
        "id": "AIYfuyHh20PV"
      }
    }
  ]
}